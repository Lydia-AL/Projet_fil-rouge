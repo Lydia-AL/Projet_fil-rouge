{
 "cells": [
  {
   "cell_type": "code",
   "execution_count": 1,
   "id": "d8494ec4-4bbd-4f41-af0f-490bf8c07e47",
   "metadata": {},
   "outputs": [],
   "source": [
    "import numpy as np\n",
    "import pandas as pd\n",
    "import seaborn as sns\n",
    "import matplotlib.pyplot as plt\n",
    "from sklearn.preprocessing import StandardScaler\n",
    "from sklearn.preprocessing import LabelEncoder\n",
    "from sklearn.model_selection import train_test_split\n",
    "from sklearn.metrics import classification_report, precision_score, confusion_matrix, accuracy_score, recall_score, f1_score\n",
    "from sklearn.ensemble import GradientBoostingClassifier\n",
    "from sklearn.neighbors import KNeighborsClassifier\n",
    "from sklearn.tree import DecisionTreeClassifier\n",
    "from sklearn.model_selection import GridSearchCV"
   ]
  },
  {
   "cell_type": "code",
   "execution_count": 2,
   "id": "500c463c-8d78-4034-acec-3328488dd350",
   "metadata": {},
   "outputs": [],
   "source": [
    "#data_3 = pd.read_csv(\"C:/Users/lydia/Documents/Datascientest/Projet fil rouge/CSV_files/data_3.csv\", index_col=0)\n",
    "data_3 = pd.read_csv(\"C:/Users/frobi/OneDrive/Documents/GitHub/dec23_cds_co2/data/processed/FinalData.csv\", index_col=0)\n"
   ]
  },
  {
   "cell_type": "code",
   "execution_count": null,
   "id": "f5e13b3a",
   "metadata": {},
   "outputs": [],
   "source": [
    "    df.drop_duplicates(inplace=True)\n",
    "\n",
    "    df_Categorielle = df.drop(['Mt', 'Ewltp (g/km)', 'W (mm)', 'At1 (mm)', 'ec (cm3)', 'ep (KW)',\n",
    "                            'Erwltp (g/km)','Fuel consumption '], axis=1)\n",
    "    if (excludeFC):\n",
    "        df_quantitative = df[['Mt', 'Ewltp (g/km)', 'W (mm)', 'At1 (mm)', 'ec (cm3)', 'ep (KW)',\n",
    "                              'Erwltp (g/km)']]\n",
    "    else:\n",
    "        df_quantitative = df[['Mt', 'Ewltp (g/km)', 'W (mm)', 'At1 (mm)', 'ec (cm3)', 'ep (KW)',\n",
    "                              'Erwltp (g/km)', 'Fuel consumption ']]\n",
    "\n",
    "    df_quantitative = df_quantitative.fillna(df_quantitative.std()) \n",
    "\n",
    "    df_Categorielle = df_Categorielle.join(pd.get_dummies(df_Categorielle[['Country','Ct','Ft','Cr']]))\n",
    "    df_Categorielle = df_Categorielle.drop(['Country','Ct','Ft','Cr'],axis=1)\n",
    "\n",
    "    le = LabelEncoder()\n",
    "    df_Categorielle['Mk'] = le.fit_transform(df_Categorielle['Mk'])\n",
    "    df_Categorielle['Mh'] = le.fit_transform(df_Categorielle['Mh'])\n",
    "    df_Categorielle['IT'] = le.fit_transform(df_Categorielle['IT'])\n",
    "\n",
    "    df_Final = df_Categorielle.join(df_quantitative)\n",
    "\n",
    "    data = df_Final.drop('Ewltp (g/km)',axis=1)\n",
    "    target = df_Final['Ewltp (g/km)']"
   ]
  },
  {
   "cell_type": "code",
   "execution_count": 3,
   "id": "d2e19981-98b8-48d0-9b32-ce34cce9b524",
   "metadata": {},
   "outputs": [
    {
     "ename": "ValueError",
     "evalue": "could not convert string to float: 'FR'",
     "output_type": "error",
     "traceback": [
      "\u001b[1;31m---------------------------------------------------------------------------\u001b[0m",
      "\u001b[1;31mValueError\u001b[0m                                Traceback (most recent call last)",
      "\u001b[1;32m~\\AppData\\Local\\Temp\\ipykernel_24104\\1975588312.py\u001b[0m in \u001b[0;36m?\u001b[1;34m()\u001b[0m\n\u001b[0;32m     16\u001b[0m \u001b[0mtarget\u001b[0m\u001b[1;33m\u001b[0m\u001b[1;33m\u001b[0m\u001b[0m\n\u001b[0;32m     17\u001b[0m \u001b[1;33m\u001b[0m\u001b[0m\n\u001b[0;32m     18\u001b[0m \u001b[0mX_train\u001b[0m\u001b[1;33m,\u001b[0m \u001b[0mX_test\u001b[0m\u001b[1;33m,\u001b[0m \u001b[0my_train\u001b[0m\u001b[1;33m,\u001b[0m \u001b[0my_test\u001b[0m \u001b[1;33m=\u001b[0m \u001b[0mtrain_test_split\u001b[0m\u001b[1;33m(\u001b[0m\u001b[0mdata\u001b[0m\u001b[1;33m,\u001b[0m \u001b[0mtarget\u001b[0m\u001b[1;33m,\u001b[0m \u001b[0mtest_size\u001b[0m\u001b[1;33m=\u001b[0m\u001b[1;36m0.25\u001b[0m\u001b[1;33m,\u001b[0m \u001b[0mrandom_state\u001b[0m\u001b[1;33m=\u001b[0m\u001b[1;36m123\u001b[0m\u001b[1;33m)\u001b[0m\u001b[1;33m\u001b[0m\u001b[1;33m\u001b[0m\u001b[0m\n\u001b[0;32m     19\u001b[0m \u001b[1;33m\u001b[0m\u001b[0m\n\u001b[1;32m---> 20\u001b[1;33m \u001b[0mscaler\u001b[0m \u001b[1;33m=\u001b[0m \u001b[0mStandardScaler\u001b[0m\u001b[1;33m(\u001b[0m\u001b[1;33m)\u001b[0m\u001b[1;33m.\u001b[0m\u001b[0mfit\u001b[0m\u001b[1;33m(\u001b[0m\u001b[0mX_train\u001b[0m\u001b[1;33m)\u001b[0m\u001b[1;33m\u001b[0m\u001b[1;33m\u001b[0m\u001b[0m\n\u001b[0m\u001b[0;32m     21\u001b[0m \u001b[0mX_train_scaled\u001b[0m \u001b[1;33m=\u001b[0m \u001b[0mscaler\u001b[0m\u001b[1;33m.\u001b[0m\u001b[0mtransform\u001b[0m\u001b[1;33m(\u001b[0m\u001b[0mX_train\u001b[0m\u001b[1;33m)\u001b[0m\u001b[1;33m\u001b[0m\u001b[1;33m\u001b[0m\u001b[0m\n\u001b[0;32m     22\u001b[0m \u001b[0mX_test_scaled\u001b[0m \u001b[1;33m=\u001b[0m \u001b[0mscaler\u001b[0m\u001b[1;33m.\u001b[0m\u001b[0mtransform\u001b[0m\u001b[1;33m(\u001b[0m\u001b[0mX_test\u001b[0m\u001b[1;33m)\u001b[0m\u001b[1;33m\u001b[0m\u001b[1;33m\u001b[0m\u001b[0m\n",
      "\u001b[1;32mc:\\DEV\\Anaconda\\envs\\dec23CDSCO2\\Lib\\site-packages\\sklearn\\preprocessing\\_data.py\u001b[0m in \u001b[0;36m?\u001b[1;34m(self, X, y, sample_weight)\u001b[0m\n\u001b[0;32m    874\u001b[0m             \u001b[0mFitted\u001b[0m \u001b[0mscaler\u001b[0m\u001b[1;33m.\u001b[0m\u001b[1;33m\u001b[0m\u001b[1;33m\u001b[0m\u001b[0m\n\u001b[0;32m    875\u001b[0m         \"\"\"\n\u001b[0;32m    876\u001b[0m         \u001b[1;31m# Reset internal state before fitting\u001b[0m\u001b[1;33m\u001b[0m\u001b[1;33m\u001b[0m\u001b[0m\n\u001b[0;32m    877\u001b[0m         \u001b[0mself\u001b[0m\u001b[1;33m.\u001b[0m\u001b[0m_reset\u001b[0m\u001b[1;33m(\u001b[0m\u001b[1;33m)\u001b[0m\u001b[1;33m\u001b[0m\u001b[1;33m\u001b[0m\u001b[0m\n\u001b[1;32m--> 878\u001b[1;33m         \u001b[1;32mreturn\u001b[0m \u001b[0mself\u001b[0m\u001b[1;33m.\u001b[0m\u001b[0mpartial_fit\u001b[0m\u001b[1;33m(\u001b[0m\u001b[0mX\u001b[0m\u001b[1;33m,\u001b[0m \u001b[0my\u001b[0m\u001b[1;33m,\u001b[0m \u001b[0msample_weight\u001b[0m\u001b[1;33m)\u001b[0m\u001b[1;33m\u001b[0m\u001b[1;33m\u001b[0m\u001b[0m\n\u001b[0m",
      "\u001b[1;32mc:\\DEV\\Anaconda\\envs\\dec23CDSCO2\\Lib\\site-packages\\sklearn\\base.py\u001b[0m in \u001b[0;36m?\u001b[1;34m(estimator, *args, **kwargs)\u001b[0m\n\u001b[0;32m   1469\u001b[0m                 skip_parameter_validation=(\n\u001b[0;32m   1470\u001b[0m                     \u001b[0mprefer_skip_nested_validation\u001b[0m \u001b[1;32mor\u001b[0m \u001b[0mglobal_skip_validation\u001b[0m\u001b[1;33m\u001b[0m\u001b[1;33m\u001b[0m\u001b[0m\n\u001b[0;32m   1471\u001b[0m                 \u001b[1;33m)\u001b[0m\u001b[1;33m\u001b[0m\u001b[1;33m\u001b[0m\u001b[0m\n\u001b[0;32m   1472\u001b[0m             \u001b[1;33m)\u001b[0m\u001b[1;33m:\u001b[0m\u001b[1;33m\u001b[0m\u001b[1;33m\u001b[0m\u001b[0m\n\u001b[1;32m-> 1473\u001b[1;33m                 \u001b[1;32mreturn\u001b[0m \u001b[0mfit_method\u001b[0m\u001b[1;33m(\u001b[0m\u001b[0mestimator\u001b[0m\u001b[1;33m,\u001b[0m \u001b[1;33m*\u001b[0m\u001b[0margs\u001b[0m\u001b[1;33m,\u001b[0m \u001b[1;33m**\u001b[0m\u001b[0mkwargs\u001b[0m\u001b[1;33m)\u001b[0m\u001b[1;33m\u001b[0m\u001b[1;33m\u001b[0m\u001b[0m\n\u001b[0m",
      "\u001b[1;32mc:\\DEV\\Anaconda\\envs\\dec23CDSCO2\\Lib\\site-packages\\sklearn\\preprocessing\\_data.py\u001b[0m in \u001b[0;36m?\u001b[1;34m(self, X, y, sample_weight)\u001b[0m\n\u001b[0;32m    910\u001b[0m         \u001b[0mself\u001b[0m \u001b[1;33m:\u001b[0m \u001b[0mobject\u001b[0m\u001b[1;33m\u001b[0m\u001b[1;33m\u001b[0m\u001b[0m\n\u001b[0;32m    911\u001b[0m             \u001b[0mFitted\u001b[0m \u001b[0mscaler\u001b[0m\u001b[1;33m.\u001b[0m\u001b[1;33m\u001b[0m\u001b[1;33m\u001b[0m\u001b[0m\n\u001b[0;32m    912\u001b[0m         \"\"\"\n\u001b[0;32m    913\u001b[0m         \u001b[0mfirst_call\u001b[0m \u001b[1;33m=\u001b[0m \u001b[1;32mnot\u001b[0m \u001b[0mhasattr\u001b[0m\u001b[1;33m(\u001b[0m\u001b[0mself\u001b[0m\u001b[1;33m,\u001b[0m \u001b[1;34m\"n_samples_seen_\"\u001b[0m\u001b[1;33m)\u001b[0m\u001b[1;33m\u001b[0m\u001b[1;33m\u001b[0m\u001b[0m\n\u001b[1;32m--> 914\u001b[1;33m         X = self._validate_data(\n\u001b[0m\u001b[0;32m    915\u001b[0m             \u001b[0mX\u001b[0m\u001b[1;33m,\u001b[0m\u001b[1;33m\u001b[0m\u001b[1;33m\u001b[0m\u001b[0m\n\u001b[0;32m    916\u001b[0m             \u001b[0maccept_sparse\u001b[0m\u001b[1;33m=\u001b[0m\u001b[1;33m(\u001b[0m\u001b[1;34m\"csr\"\u001b[0m\u001b[1;33m,\u001b[0m \u001b[1;34m\"csc\"\u001b[0m\u001b[1;33m)\u001b[0m\u001b[1;33m,\u001b[0m\u001b[1;33m\u001b[0m\u001b[1;33m\u001b[0m\u001b[0m\n\u001b[0;32m    917\u001b[0m             \u001b[0mdtype\u001b[0m\u001b[1;33m=\u001b[0m\u001b[0mFLOAT_DTYPES\u001b[0m\u001b[1;33m,\u001b[0m\u001b[1;33m\u001b[0m\u001b[1;33m\u001b[0m\u001b[0m\n",
      "\u001b[1;32mc:\\DEV\\Anaconda\\envs\\dec23CDSCO2\\Lib\\site-packages\\sklearn\\base.py\u001b[0m in \u001b[0;36m?\u001b[1;34m(self, X, y, reset, validate_separately, cast_to_ndarray, **check_params)\u001b[0m\n\u001b[0;32m    629\u001b[0m                 \u001b[0mout\u001b[0m \u001b[1;33m=\u001b[0m \u001b[0my\u001b[0m\u001b[1;33m\u001b[0m\u001b[1;33m\u001b[0m\u001b[0m\n\u001b[0;32m    630\u001b[0m             \u001b[1;32melse\u001b[0m\u001b[1;33m:\u001b[0m\u001b[1;33m\u001b[0m\u001b[1;33m\u001b[0m\u001b[0m\n\u001b[0;32m    631\u001b[0m                 \u001b[0mout\u001b[0m \u001b[1;33m=\u001b[0m \u001b[0mX\u001b[0m\u001b[1;33m,\u001b[0m \u001b[0my\u001b[0m\u001b[1;33m\u001b[0m\u001b[1;33m\u001b[0m\u001b[0m\n\u001b[0;32m    632\u001b[0m         \u001b[1;32melif\u001b[0m \u001b[1;32mnot\u001b[0m \u001b[0mno_val_X\u001b[0m \u001b[1;32mand\u001b[0m \u001b[0mno_val_y\u001b[0m\u001b[1;33m:\u001b[0m\u001b[1;33m\u001b[0m\u001b[1;33m\u001b[0m\u001b[0m\n\u001b[1;32m--> 633\u001b[1;33m             \u001b[0mout\u001b[0m \u001b[1;33m=\u001b[0m \u001b[0mcheck_array\u001b[0m\u001b[1;33m(\u001b[0m\u001b[0mX\u001b[0m\u001b[1;33m,\u001b[0m \u001b[0minput_name\u001b[0m\u001b[1;33m=\u001b[0m\u001b[1;34m\"X\"\u001b[0m\u001b[1;33m,\u001b[0m \u001b[1;33m**\u001b[0m\u001b[0mcheck_params\u001b[0m\u001b[1;33m)\u001b[0m\u001b[1;33m\u001b[0m\u001b[1;33m\u001b[0m\u001b[0m\n\u001b[0m\u001b[0;32m    634\u001b[0m         \u001b[1;32melif\u001b[0m \u001b[0mno_val_X\u001b[0m \u001b[1;32mand\u001b[0m \u001b[1;32mnot\u001b[0m \u001b[0mno_val_y\u001b[0m\u001b[1;33m:\u001b[0m\u001b[1;33m\u001b[0m\u001b[1;33m\u001b[0m\u001b[0m\n\u001b[0;32m    635\u001b[0m             \u001b[0mout\u001b[0m \u001b[1;33m=\u001b[0m \u001b[0m_check_y\u001b[0m\u001b[1;33m(\u001b[0m\u001b[0my\u001b[0m\u001b[1;33m,\u001b[0m \u001b[1;33m**\u001b[0m\u001b[0mcheck_params\u001b[0m\u001b[1;33m)\u001b[0m\u001b[1;33m\u001b[0m\u001b[1;33m\u001b[0m\u001b[0m\n\u001b[0;32m    636\u001b[0m         \u001b[1;32melse\u001b[0m\u001b[1;33m:\u001b[0m\u001b[1;33m\u001b[0m\u001b[1;33m\u001b[0m\u001b[0m\n",
      "\u001b[1;32mc:\\DEV\\Anaconda\\envs\\dec23CDSCO2\\Lib\\site-packages\\sklearn\\utils\\validation.py\u001b[0m in \u001b[0;36m?\u001b[1;34m(array, accept_sparse, accept_large_sparse, dtype, order, copy, force_writeable, force_all_finite, ensure_2d, allow_nd, ensure_min_samples, ensure_min_features, estimator, input_name)\u001b[0m\n\u001b[0;32m   1009\u001b[0m                         \u001b[1;33m)\u001b[0m\u001b[1;33m\u001b[0m\u001b[1;33m\u001b[0m\u001b[0m\n\u001b[0;32m   1010\u001b[0m                     \u001b[0marray\u001b[0m \u001b[1;33m=\u001b[0m \u001b[0mxp\u001b[0m\u001b[1;33m.\u001b[0m\u001b[0mastype\u001b[0m\u001b[1;33m(\u001b[0m\u001b[0marray\u001b[0m\u001b[1;33m,\u001b[0m \u001b[0mdtype\u001b[0m\u001b[1;33m,\u001b[0m \u001b[0mcopy\u001b[0m\u001b[1;33m=\u001b[0m\u001b[1;32mFalse\u001b[0m\u001b[1;33m)\u001b[0m\u001b[1;33m\u001b[0m\u001b[1;33m\u001b[0m\u001b[0m\n\u001b[0;32m   1011\u001b[0m                 \u001b[1;32melse\u001b[0m\u001b[1;33m:\u001b[0m\u001b[1;33m\u001b[0m\u001b[1;33m\u001b[0m\u001b[0m\n\u001b[0;32m   1012\u001b[0m                     \u001b[0marray\u001b[0m \u001b[1;33m=\u001b[0m \u001b[0m_asarray_with_order\u001b[0m\u001b[1;33m(\u001b[0m\u001b[0marray\u001b[0m\u001b[1;33m,\u001b[0m \u001b[0morder\u001b[0m\u001b[1;33m=\u001b[0m\u001b[0morder\u001b[0m\u001b[1;33m,\u001b[0m \u001b[0mdtype\u001b[0m\u001b[1;33m=\u001b[0m\u001b[0mdtype\u001b[0m\u001b[1;33m,\u001b[0m \u001b[0mxp\u001b[0m\u001b[1;33m=\u001b[0m\u001b[0mxp\u001b[0m\u001b[1;33m)\u001b[0m\u001b[1;33m\u001b[0m\u001b[1;33m\u001b[0m\u001b[0m\n\u001b[1;32m-> 1013\u001b[1;33m             \u001b[1;32mexcept\u001b[0m \u001b[0mComplexWarning\u001b[0m \u001b[1;32mas\u001b[0m \u001b[0mcomplex_warning\u001b[0m\u001b[1;33m:\u001b[0m\u001b[1;33m\u001b[0m\u001b[1;33m\u001b[0m\u001b[0m\n\u001b[0m\u001b[0;32m   1014\u001b[0m                 raise ValueError(\n\u001b[0;32m   1015\u001b[0m                     \u001b[1;34m\"Complex data not supported\\n{}\\n\"\u001b[0m\u001b[1;33m.\u001b[0m\u001b[0mformat\u001b[0m\u001b[1;33m(\u001b[0m\u001b[0marray\u001b[0m\u001b[1;33m)\u001b[0m\u001b[1;33m\u001b[0m\u001b[1;33m\u001b[0m\u001b[0m\n\u001b[0;32m   1016\u001b[0m                 \u001b[1;33m)\u001b[0m \u001b[1;32mfrom\u001b[0m \u001b[0mcomplex_warning\u001b[0m\u001b[1;33m\u001b[0m\u001b[1;33m\u001b[0m\u001b[0m\n",
      "\u001b[1;32mc:\\DEV\\Anaconda\\envs\\dec23CDSCO2\\Lib\\site-packages\\sklearn\\utils\\_array_api.py\u001b[0m in \u001b[0;36m?\u001b[1;34m(array, dtype, order, copy, xp, device)\u001b[0m\n\u001b[0;32m    741\u001b[0m         \u001b[1;31m# Use NumPy API to support order\u001b[0m\u001b[1;33m\u001b[0m\u001b[1;33m\u001b[0m\u001b[0m\n\u001b[0;32m    742\u001b[0m         \u001b[1;32mif\u001b[0m \u001b[0mcopy\u001b[0m \u001b[1;32mis\u001b[0m \u001b[1;32mTrue\u001b[0m\u001b[1;33m:\u001b[0m\u001b[1;33m\u001b[0m\u001b[1;33m\u001b[0m\u001b[0m\n\u001b[0;32m    743\u001b[0m             \u001b[0marray\u001b[0m \u001b[1;33m=\u001b[0m \u001b[0mnumpy\u001b[0m\u001b[1;33m.\u001b[0m\u001b[0marray\u001b[0m\u001b[1;33m(\u001b[0m\u001b[0marray\u001b[0m\u001b[1;33m,\u001b[0m \u001b[0morder\u001b[0m\u001b[1;33m=\u001b[0m\u001b[0morder\u001b[0m\u001b[1;33m,\u001b[0m \u001b[0mdtype\u001b[0m\u001b[1;33m=\u001b[0m\u001b[0mdtype\u001b[0m\u001b[1;33m)\u001b[0m\u001b[1;33m\u001b[0m\u001b[1;33m\u001b[0m\u001b[0m\n\u001b[0;32m    744\u001b[0m         \u001b[1;32melse\u001b[0m\u001b[1;33m:\u001b[0m\u001b[1;33m\u001b[0m\u001b[1;33m\u001b[0m\u001b[0m\n\u001b[1;32m--> 745\u001b[1;33m             \u001b[0marray\u001b[0m \u001b[1;33m=\u001b[0m \u001b[0mnumpy\u001b[0m\u001b[1;33m.\u001b[0m\u001b[0masarray\u001b[0m\u001b[1;33m(\u001b[0m\u001b[0marray\u001b[0m\u001b[1;33m,\u001b[0m \u001b[0morder\u001b[0m\u001b[1;33m=\u001b[0m\u001b[0morder\u001b[0m\u001b[1;33m,\u001b[0m \u001b[0mdtype\u001b[0m\u001b[1;33m=\u001b[0m\u001b[0mdtype\u001b[0m\u001b[1;33m)\u001b[0m\u001b[1;33m\u001b[0m\u001b[1;33m\u001b[0m\u001b[0m\n\u001b[0m\u001b[0;32m    746\u001b[0m \u001b[1;33m\u001b[0m\u001b[0m\n\u001b[0;32m    747\u001b[0m         \u001b[1;31m# At this point array is a NumPy ndarray. We convert it to an array\u001b[0m\u001b[1;33m\u001b[0m\u001b[1;33m\u001b[0m\u001b[0m\n\u001b[0;32m    748\u001b[0m         \u001b[1;31m# container that is consistent with the input's namespace.\u001b[0m\u001b[1;33m\u001b[0m\u001b[1;33m\u001b[0m\u001b[0m\n",
      "\u001b[1;32mc:\\DEV\\Anaconda\\envs\\dec23CDSCO2\\Lib\\site-packages\\pandas\\core\\generic.py\u001b[0m in \u001b[0;36m?\u001b[1;34m(self, dtype, copy)\u001b[0m\n\u001b[0;32m   2149\u001b[0m     def __array__(\n\u001b[0;32m   2150\u001b[0m         \u001b[0mself\u001b[0m\u001b[1;33m,\u001b[0m \u001b[0mdtype\u001b[0m\u001b[1;33m:\u001b[0m \u001b[0mnpt\u001b[0m\u001b[1;33m.\u001b[0m\u001b[0mDTypeLike\u001b[0m \u001b[1;33m|\u001b[0m \u001b[1;32mNone\u001b[0m \u001b[1;33m=\u001b[0m \u001b[1;32mNone\u001b[0m\u001b[1;33m,\u001b[0m \u001b[0mcopy\u001b[0m\u001b[1;33m:\u001b[0m \u001b[0mbool_t\u001b[0m \u001b[1;33m|\u001b[0m \u001b[1;32mNone\u001b[0m \u001b[1;33m=\u001b[0m \u001b[1;32mNone\u001b[0m\u001b[1;33m\u001b[0m\u001b[1;33m\u001b[0m\u001b[0m\n\u001b[0;32m   2151\u001b[0m     \u001b[1;33m)\u001b[0m \u001b[1;33m->\u001b[0m \u001b[0mnp\u001b[0m\u001b[1;33m.\u001b[0m\u001b[0mndarray\u001b[0m\u001b[1;33m:\u001b[0m\u001b[1;33m\u001b[0m\u001b[1;33m\u001b[0m\u001b[0m\n\u001b[0;32m   2152\u001b[0m         \u001b[0mvalues\u001b[0m \u001b[1;33m=\u001b[0m \u001b[0mself\u001b[0m\u001b[1;33m.\u001b[0m\u001b[0m_values\u001b[0m\u001b[1;33m\u001b[0m\u001b[1;33m\u001b[0m\u001b[0m\n\u001b[1;32m-> 2153\u001b[1;33m         \u001b[0marr\u001b[0m \u001b[1;33m=\u001b[0m \u001b[0mnp\u001b[0m\u001b[1;33m.\u001b[0m\u001b[0masarray\u001b[0m\u001b[1;33m(\u001b[0m\u001b[0mvalues\u001b[0m\u001b[1;33m,\u001b[0m \u001b[0mdtype\u001b[0m\u001b[1;33m=\u001b[0m\u001b[0mdtype\u001b[0m\u001b[1;33m)\u001b[0m\u001b[1;33m\u001b[0m\u001b[1;33m\u001b[0m\u001b[0m\n\u001b[0m\u001b[0;32m   2154\u001b[0m         if (\n\u001b[0;32m   2155\u001b[0m             \u001b[0mastype_is_view\u001b[0m\u001b[1;33m(\u001b[0m\u001b[0mvalues\u001b[0m\u001b[1;33m.\u001b[0m\u001b[0mdtype\u001b[0m\u001b[1;33m,\u001b[0m \u001b[0marr\u001b[0m\u001b[1;33m.\u001b[0m\u001b[0mdtype\u001b[0m\u001b[1;33m)\u001b[0m\u001b[1;33m\u001b[0m\u001b[1;33m\u001b[0m\u001b[0m\n\u001b[0;32m   2156\u001b[0m             \u001b[1;32mand\u001b[0m \u001b[0musing_copy_on_write\u001b[0m\u001b[1;33m(\u001b[0m\u001b[1;33m)\u001b[0m\u001b[1;33m\u001b[0m\u001b[1;33m\u001b[0m\u001b[0m\n",
      "\u001b[1;31mValueError\u001b[0m: could not convert string to float: 'FR'"
     ]
    }
   ],
   "source": [
    "data = data_3.drop('Ewltp (g/km)',axis=1)\n",
    "target = data_3['Ewltp (g/km)']\n",
    "\n",
    "def new_target(x):\n",
    "    res = 0\n",
    "    if(x <= 100) : res = 1\n",
    "    elif((x > 100 ) & (x <= 120)):res = 2\n",
    "    elif((x > 120) & (x <= 140)): res = 3\n",
    "    elif((x > 140) & (x <= 160)): res = 4\n",
    "    elif((x > 160) & (x <= 200)): res = 5\n",
    "    elif((x > 200) & (x <= 250)): res = 6\n",
    "    elif((x > 250)): res = 7\n",
    "    return res\n",
    "\n",
    "target = target.apply(new_target)\n",
    "target\n",
    "\n",
    "X_train, X_test, y_train, y_test = train_test_split(data, target, test_size=0.25, random_state=123)\n",
    "\n",
    "scaler = StandardScaler().fit(X_train)\n",
    "X_train_scaled = scaler.transform(X_train)\n",
    "X_test_scaled = scaler.transform(X_test)"
   ]
  },
  {
   "cell_type": "code",
   "execution_count": 6,
   "id": "052ef7f8-8130-4563-bd34-d95240ba705f",
   "metadata": {},
   "outputs": [],
   "source": [
    "#Decision tree classifier"
   ]
  },
  {
   "cell_type": "code",
   "execution_count": 5,
   "id": "d1267be6-ce68-4629-9a99-ce37cee2cece",
   "metadata": {},
   "outputs": [],
   "source": [
    "dt_clf = DecisionTreeClassifier(criterion='entropy', max_depth=4,random_state=123)\n",
    "dt_clf.fit(X_train_scaled,y_train)\n",
    "y_test_pred = dt_clf.predict(X_test_scaled)\n",
    "y_train_pred = dt_clf.predict(X_train_scaled)"
   ]
  },
  {
   "cell_type": "code",
   "execution_count": 14,
   "id": "5e05a0ec-8941-48ec-97a2-a2209e68fe1c",
   "metadata": {},
   "outputs": [
    {
     "name": "stdout",
     "output_type": "stream",
     "text": [
      "Confusion Matrix train\n",
      "Predicted       1       2       3       4       5      6\n",
      "reel                                                    \n",
      "1          373207   41000    5786      27      12      4\n",
      "2               0  423522   43488     146   38289      0\n",
      "3               0   30189  842285   27259   10747      1\n",
      "4               0      54     845  445104    3324      3\n",
      "5               0       0    1256    2741  231057     42\n",
      "6               0       0    1885     240   45289  47488\n",
      "7               0       0    1165      71      11  29901\n",
      "\n",
      "\n",
      "Confusion Matrix test\n",
      "Predicted       1       2       3       4      5      6\n",
      "reel                                                   \n",
      "1          124108   13873    1931       7      1      0\n",
      "2               0  141966   14629      31  12586      0\n",
      "3               0    9939  280896    9155   3605      0\n",
      "4               0      20     277  148158   1130      0\n",
      "5               0       0     460     961  76527     11\n",
      "6               0       0     630     101  14887  15824\n",
      "7               0       0     384      23      1  10025\n"
     ]
    }
   ],
   "source": [
    "#Matrice de confusion\n",
    "print(\"Confusion Matrix train\")\n",
    "print(pd.crosstab(y_train, y_train_pred, rownames=['reel'], colnames=['Predicted']))\n",
    "print(\"\\n\")\n",
    "print(\"Confusion Matrix test\")\n",
    "print(pd.crosstab(y_test, y_test_pred, rownames=['reel'], colnames=['Predicted']))"
   ]
  },
  {
   "cell_type": "code",
   "execution_count": 10,
   "id": "4e48687f-e2be-4c97-8cbb-6a8f8070bbe4",
   "metadata": {},
   "outputs": [],
   "source": [
    "#Calcul des scores"
   ]
  },
  {
   "cell_type": "code",
   "execution_count": 15,
   "id": "fa275c35-4c29-4834-9890-96cec94feb28",
   "metadata": {},
   "outputs": [
    {
     "name": "stdout",
     "output_type": "stream",
     "text": [
      "Train Accuracy: 89.28%\n",
      "Test Accuracy: 89.27%\n",
      "\n",
      "\n"
     ]
    },
    {
     "name": "stderr",
     "output_type": "stream",
     "text": [
      "C:\\Users\\lydia\\anaconda3\\Lib\\site-packages\\sklearn\\metrics\\_classification.py:1344: UndefinedMetricWarning: Precision is ill-defined and being set to 0.0 in labels with no predicted samples. Use `zero_division` parameter to control this behavior.\n",
      "  _warn_prf(average, modifier, msg_start, len(result))\n",
      "C:\\Users\\lydia\\anaconda3\\Lib\\site-packages\\sklearn\\metrics\\_classification.py:1344: UndefinedMetricWarning: Precision is ill-defined and being set to 0.0 in labels with no predicted samples. Use `zero_division` parameter to control this behavior.\n",
      "  _warn_prf(average, modifier, msg_start, len(result))\n"
     ]
    },
    {
     "name": "stdout",
     "output_type": "stream",
     "text": [
      "Train precision: 88.87%\n",
      "Test precision: 88.85%\n",
      "\n",
      "\n",
      "Train recall: 89.28%\n",
      "Test recall: 89.27%\n",
      "\n",
      "\n",
      "Train f1: 88.78%\n",
      "Test f1: 88.77%\n",
      "\n",
      "\n",
      "Train f1: 88.78%\n",
      "Test f1: 88.77%\n",
      "\n",
      "\n"
     ]
    },
    {
     "name": "stderr",
     "output_type": "stream",
     "text": [
      "C:\\Users\\lydia\\anaconda3\\Lib\\site-packages\\sklearn\\metrics\\_classification.py:1344: UndefinedMetricWarning: Precision and F-score are ill-defined and being set to 0.0 in labels with no predicted samples. Use `zero_division` parameter to control this behavior.\n",
      "  _warn_prf(average, modifier, msg_start, len(result))\n",
      "C:\\Users\\lydia\\anaconda3\\Lib\\site-packages\\sklearn\\metrics\\_classification.py:1344: UndefinedMetricWarning: Precision and F-score are ill-defined and being set to 0.0 in labels with no predicted samples. Use `zero_division` parameter to control this behavior.\n",
      "  _warn_prf(average, modifier, msg_start, len(result))\n",
      "C:\\Users\\lydia\\anaconda3\\Lib\\site-packages\\sklearn\\metrics\\_classification.py:1344: UndefinedMetricWarning: Precision and F-score are ill-defined and being set to 0.0 in labels with no predicted samples. Use `zero_division` parameter to control this behavior.\n",
      "  _warn_prf(average, modifier, msg_start, len(result))\n",
      "C:\\Users\\lydia\\anaconda3\\Lib\\site-packages\\sklearn\\metrics\\_classification.py:1344: UndefinedMetricWarning: Precision and F-score are ill-defined and being set to 0.0 in labels with no predicted samples. Use `zero_division` parameter to control this behavior.\n",
      "  _warn_prf(average, modifier, msg_start, len(result))\n",
      "C:\\Users\\lydia\\anaconda3\\Lib\\site-packages\\sklearn\\metrics\\_classification.py:1344: UndefinedMetricWarning: Precision and F-score are ill-defined and being set to 0.0 in labels with no predicted samples. Use `zero_division` parameter to control this behavior.\n",
      "  _warn_prf(average, modifier, msg_start, len(result))\n"
     ]
    },
    {
     "name": "stdout",
     "output_type": "stream",
     "text": [
      "Classification Report Train:               precision    recall  f1-score   support\n",
      "\n",
      "           1       1.00      0.89      0.94    420036\n",
      "           2       0.86      0.84      0.85    505445\n",
      "           3       0.94      0.93      0.93    910481\n",
      "           4       0.94      0.99      0.96    449330\n",
      "           5       0.70      0.98      0.82    235096\n",
      "           6       0.61      0.50      0.55     94902\n",
      "           7       0.00      0.00      0.00     31148\n",
      "\n",
      "    accuracy                           0.89   2646438\n",
      "   macro avg       0.72      0.73      0.72   2646438\n",
      "weighted avg       0.89      0.89      0.89   2646438\n",
      "\n",
      "Classification Report Test:               precision    recall  f1-score   support\n",
      "\n",
      "           1       1.00      0.89      0.94    139920\n",
      "           2       0.86      0.84      0.85    169212\n",
      "           3       0.94      0.93      0.93    303595\n",
      "           4       0.94      0.99      0.96    149585\n",
      "           5       0.70      0.98      0.82     77959\n",
      "           6       0.61      0.50      0.55     31442\n",
      "           7       0.00      0.00      0.00     10433\n",
      "\n",
      "    accuracy                           0.89    882146\n",
      "   macro avg       0.72      0.73      0.72    882146\n",
      "weighted avg       0.89      0.89      0.89    882146\n",
      "\n"
     ]
    },
    {
     "name": "stderr",
     "output_type": "stream",
     "text": [
      "C:\\Users\\lydia\\anaconda3\\Lib\\site-packages\\sklearn\\metrics\\_classification.py:1344: UndefinedMetricWarning: Precision and F-score are ill-defined and being set to 0.0 in labels with no predicted samples. Use `zero_division` parameter to control this behavior.\n",
      "  _warn_prf(average, modifier, msg_start, len(result))\n"
     ]
    }
   ],
   "source": [
    "#accuracy\n",
    "train_accuracy = accuracy_score(y_train, y_train_pred)\n",
    "test_accuracy = accuracy_score(y_test, y_test_pred)\n",
    "print(f\"Train Accuracy: {train_accuracy * 100:.2f}%\")\n",
    "print(f\"Test Accuracy: {test_accuracy * 100:.2f}%\")\n",
    "print(\"\\n\")\n",
    "\n",
    "#precision_score\n",
    "train_precision = precision_score(y_train, y_train_pred, average='weighted')\n",
    "test_precision = precision_score(y_test, y_test_pred, average='weighted')\n",
    "print(f\"Train precision: {train_precision * 100:.2f}%\")\n",
    "print(f\"Test precision: {test_precision * 100:.2f}%\")\n",
    "print(\"\\n\")\n",
    "\n",
    "#recall_score\n",
    "train_recall = recall_score(y_train, y_train_pred, average='weighted')\n",
    "test_recall = recall_score(y_test, y_test_pred, average='weighted')\n",
    "print(f\"Train recall: {train_recall * 100:.2f}%\")\n",
    "print(f\"Test recall: {test_recall * 100:.2f}%\")\n",
    "print(\"\\n\")\n",
    "\n",
    "#f1_score\n",
    "train_f1 = f1_score(y_train, y_train_pred, average='weighted')\n",
    "test_f1 = f1_score(y_test, y_test_pred, average='weighted')\n",
    "print(f\"Train f1: {train_f1 * 100:.2f}%\")\n",
    "print(f\"Test f1: {test_f1 * 100:.2f}%\")\n",
    "print(\"\\n\")\n",
    "\n",
    "#classification_report\n",
    "class_report_train = classification_report(y_train, y_train_pred)\n",
    "class_report_test = classification_report(y_test, y_test_pred)\n",
    "print(\"Classification Report Train:\", class_report_train)\n",
    "print(\"Classification Report Test:\", class_report_test)"
   ]
  },
  {
   "cell_type": "code",
   "execution_count": 16,
   "id": "9a151a50-ff7a-48a0-a3dc-6176954d6ed2",
   "metadata": {},
   "outputs": [
    {
     "name": "stdout",
     "output_type": "stream",
     "text": [
      "Accuracy moyenne en validation croisée: 0.8928\n"
     ]
    }
   ],
   "source": [
    "from sklearn.model_selection import cross_val_score\n",
    "\n",
    "scores = cross_val_score(dt_clf, X_train_scaled, y_train, cv=5, scoring='accuracy')\n",
    "print(f'Accuracy moyenne en validation croisée: {scores.mean():.4f}')"
   ]
  },
  {
   "cell_type": "code",
   "execution_count": 17,
   "id": "28fa6326-08a4-48e8-b70e-c21e0a39bdb3",
   "metadata": {},
   "outputs": [],
   "source": [
    "#INTERPRETATION\n",
    "#On observe une très grande majorité de prédictions correctes sur les diagonales. Cela signifie que le modèle fonctionne très bien sur \n",
    "#les ensembles d'entraînement et de test.\n",
    "#Dans l'ensemble d'entrainement, quelques erreurs existent, notamment entre les classes 2 et 3, où environ 43 488 exemples de la classe 2 ont été mal \n",
    "#classés comme 3, et 30 189 exemples de la classe 3 ont été mal classés comme 2.\n",
    "#Dans l'ensemble de test, les prédictions sont assez bonnes pour les classes 1, 2, 3 et 4 avec un grand nombre d'exemples correctement classés.\n",
    "\n",
    "#Les performances sont similaires sur les ensembles d'entraînement et de test, ce qui montre que le modèle généralise bien. \n",
    "#Il ne semble pas y avoir de problème de surapprentissage ou de sous-apprentissage.\n",
    "\n",
    "#Les scores d'accuracy, de précision, de rappel et de F1-score sont tous élevés (autour de 89%), ce qui indique que le modèle est performant \n",
    "#Il classe correctement la majorité des observations avec peu d'erreurs.\n",
    "#Mais le modèle peut etre amélioré avec un Gridsearch pour tester d'autres paramètres et améliorer les scores.\n",
    "\n",
    "#Nous pouvons ajuster la profondeur de l'arbre, max_depth, la profondeur limite la complexité de l'arbre. \n",
    "#Un arbre trop profond risque de surapprendre sur l'ensemble d'entraînement, tandis qu'un arbre trop peu profond peut manquer de capturer \n",
    "#des relations importantes dans les données.\n",
    "\n",
    "#Nous pouvons tester plusieurs critère d'impureté, le criterion:\n",
    "#gini qui préserve la diversité des classes, entropy qui favorise la maximisation de l'information.\n",
    "\n",
    "#le paramètre min_samples_split, augmenter cette valeur évite que le modèle surapprenne en réduisant la complexité de l'arbre."
   ]
  },
  {
   "cell_type": "code",
   "execution_count": 8,
   "id": "667b5178-8965-45af-b2df-d1cf0421a4a1",
   "metadata": {},
   "outputs": [],
   "source": [
    "#Feature importance DecisionTree Classifier"
   ]
  },
  {
   "cell_type": "code",
   "execution_count": 13,
   "id": "8a306912-714e-4915-9890-e3c5ea491fc0",
   "metadata": {},
   "outputs": [
    {
     "data": {
      "text/html": [
       "<div>\n",
       "<style scoped>\n",
       "    .dataframe tbody tr th:only-of-type {\n",
       "        vertical-align: middle;\n",
       "    }\n",
       "\n",
       "    .dataframe tbody tr th {\n",
       "        vertical-align: top;\n",
       "    }\n",
       "\n",
       "    .dataframe thead th {\n",
       "        text-align: right;\n",
       "    }\n",
       "</style>\n",
       "<table border=\"1\" class=\"dataframe\">\n",
       "  <thead>\n",
       "    <tr style=\"text-align: right;\">\n",
       "      <th></th>\n",
       "      <th>Importance</th>\n",
       "    </tr>\n",
       "  </thead>\n",
       "  <tbody>\n",
       "    <tr>\n",
       "      <th>Erwltp (g/km)</th>\n",
       "      <td>0.819452</td>\n",
       "    </tr>\n",
       "    <tr>\n",
       "      <th>At1 (mm)</th>\n",
       "      <td>0.122126</td>\n",
       "    </tr>\n",
       "    <tr>\n",
       "      <th>ec (cm3)</th>\n",
       "      <td>0.058422</td>\n",
       "    </tr>\n",
       "    <tr>\n",
       "      <th>Mt</th>\n",
       "      <td>0.000000</td>\n",
       "    </tr>\n",
       "    <tr>\n",
       "      <th>Ewltp (g/km)</th>\n",
       "      <td>0.000000</td>\n",
       "    </tr>\n",
       "    <tr>\n",
       "      <th>W (mm)</th>\n",
       "      <td>0.000000</td>\n",
       "    </tr>\n",
       "    <tr>\n",
       "      <th>Ft</th>\n",
       "      <td>0.000000</td>\n",
       "    </tr>\n",
       "    <tr>\n",
       "      <th>ep (KW)</th>\n",
       "      <td>0.000000</td>\n",
       "    </tr>\n",
       "    <tr>\n",
       "      <th>IT</th>\n",
       "      <td>0.000000</td>\n",
       "    </tr>\n",
       "    <tr>\n",
       "      <th>Fuel consumption</th>\n",
       "      <td>0.000000</td>\n",
       "    </tr>\n",
       "    <tr>\n",
       "      <th>Ct_M1</th>\n",
       "      <td>0.000000</td>\n",
       "    </tr>\n",
       "    <tr>\n",
       "      <th>Ct_M1G</th>\n",
       "      <td>0.000000</td>\n",
       "    </tr>\n",
       "    <tr>\n",
       "      <th>Ct_N1</th>\n",
       "      <td>0.000000</td>\n",
       "    </tr>\n",
       "    <tr>\n",
       "      <th>Ct_N1G</th>\n",
       "      <td>0.000000</td>\n",
       "    </tr>\n",
       "    <tr>\n",
       "      <th>Country_DE</th>\n",
       "      <td>0.000000</td>\n",
       "    </tr>\n",
       "  </tbody>\n",
       "</table>\n",
       "</div>"
      ],
      "text/plain": [
       "                   Importance\n",
       "Erwltp (g/km)        0.819452\n",
       "At1 (mm)             0.122126\n",
       "ec (cm3)             0.058422\n",
       "Mt                   0.000000\n",
       "Ewltp (g/km)         0.000000\n",
       "W (mm)               0.000000\n",
       "Ft                   0.000000\n",
       "ep (KW)              0.000000\n",
       "IT                   0.000000\n",
       "Fuel consumption     0.000000\n",
       "Ct_M1                0.000000\n",
       "Ct_M1G               0.000000\n",
       "Ct_N1                0.000000\n",
       "Ct_N1G               0.000000\n",
       "Country_DE           0.000000"
      ]
     },
     "execution_count": 13,
     "metadata": {},
     "output_type": "execute_result"
    }
   ],
   "source": [
    "feats = {}\n",
    "for feature, importance in zip(data_3.columns, dt_clf.feature_importances_):\n",
    "    feats[feature] = importance \n",
    "    \n",
    "importances = pd.DataFrame.from_dict(feats, orient='index').rename(columns={0: 'Importance'})\n",
    "importances.sort_values(by='Importance', ascending=False)"
   ]
  },
  {
   "cell_type": "code",
   "execution_count": 14,
   "id": "737f0a7d-944f-4ce5-9fcf-416676b0b943",
   "metadata": {},
   "outputs": [],
   "source": [
    "#Visualisation des features importance"
   ]
  },
  {
   "cell_type": "code",
   "execution_count": 18,
   "id": "93f3fbea-5452-4380-90f0-0abac8fcf7c7",
   "metadata": {},
   "outputs": [
    {
     "data": {
      "image/png": "[encoded data removed]",
      "text/plain": [
       "<Figure size 800x400 with 1 Axes>"
      ]
     },
     "metadata": {},
     "output_type": "display_data"
    }
   ],
   "source": [
    "importances_sorted = importances.sort_values(by='Importance', ascending=False)\n",
    "\n",
    "plt.figure(figsize=(8, 4))\n",
    "sns.barplot(x=importances_sorted['Importance'], y=importances_sorted.index, palette='Blues_d')\n",
    "plt.xlabel('Importance')\n",
    "plt.ylabel('Features')\n",
    "plt.title('Feature Importances')\n",
    "plt.show()"
   ]
  },
  {
   "cell_type": "code",
   "execution_count": null,
   "id": "98812603-5d54-4517-a43b-bbcfd41e7291",
   "metadata": {},
   "outputs": [],
   "source": [
    "#Gridsearch_Decision tree classifier"
   ]
  },
  {
   "cell_type": "code",
   "execution_count": 18,
   "id": "62f4d81f-3919-4b19-904d-765a376e03ca",
   "metadata": {},
   "outputs": [
    {
     "name": "stdout",
     "output_type": "stream",
     "text": [
      "Fitting 2 folds for each of 64 candidates, totalling 128 fits\n",
      "                                               params  mean_test_score\n",
      "0   {'criterion': 'gini', 'max_depth': None, 'min_...         0.994956\n",
      "1   {'criterion': 'gini', 'max_depth': None, 'min_...         0.994875\n",
      "2   {'criterion': 'gini', 'max_depth': None, 'min_...         0.994849\n",
      "3   {'criterion': 'gini', 'max_depth': None, 'min_...         0.994620\n",
      "4   {'criterion': 'gini', 'max_depth': 2, 'min_sam...         0.600389\n",
      "..                                                ...              ...\n",
      "59  {'criterion': 'entropy', 'max_depth': 15, 'min...         0.992055\n",
      "60  {'criterion': 'entropy', 'max_depth': 20, 'min...         0.994598\n",
      "61  {'criterion': 'entropy', 'max_depth': 20, 'min...         0.994554\n",
      "62  {'criterion': 'entropy', 'max_depth': 20, 'min...         0.994508\n",
      "63  {'criterion': 'entropy', 'max_depth': 20, 'min...         0.994290\n",
      "\n",
      "[64 rows x 2 columns]\n",
      "le meilleur paramètre de DecisionTreeClassifier est : {'criterion': 'entropy', 'max_depth': None, 'min_samples_split': 2}\n"
     ]
    }
   ],
   "source": [
    "param_gridDTC = {\n",
    "    'criterion' : ['gini', 'entropy'],\n",
    "    'max_depth':  [None, 2, 4, 6, 8, 10, 15, 20],\n",
    "    'min_samples_split': [2, 5, 10, 20],\n",
    "}\n",
    "grid_DTC = GridSearchCV(estimator=DecisionTreeClassifier(), param_grid=param_gridDTC, n_jobs=-1,\n",
    "                        cv=2, verbose=1,refit= True)\n",
    "grille = grid_DTC.fit(X_train_scaled,y_train)\n",
    "print(pd.DataFrame.from_dict(grille.cv_results_).loc[:,['params', 'mean_test_score']])\n",
    "\n",
    "print('le meilleur paramètre de DecisionTreeClassifier est :',grid_DTC.best_params_)"
   ]
  },
  {
   "cell_type": "code",
   "execution_count": null,
   "id": "1cc2d367-2cdb-4938-b656-1f94fc68450a",
   "metadata": {},
   "outputs": [],
   "source": [
    "13 minutes"
   ]
  },
  {
   "cell_type": "code",
   "execution_count": null,
   "id": "ddeb3146-42af-4b2a-8e34-7d6744dd0dc0",
   "metadata": {},
   "outputs": [],
   "source": [
    "#Decision tree classifier avec les meilleurs paramètres "
   ]
  },
  {
   "cell_type": "code",
   "execution_count": 19,
   "id": "45cb6fd4-3d58-411b-a006-175d916a72c2",
   "metadata": {},
   "outputs": [
    {
     "name": "stdout",
     "output_type": "stream",
     "text": [
      "Confusion Matrix train\n",
      "Predicted       1       2       3       4       5      6\n",
      "reel                                                    \n",
      "1          373207   41000    5786      27      12      4\n",
      "2               0  423522   43488     146   38289      0\n",
      "3               0   30189  842285   27259   10747      1\n",
      "4               0      54     845  445104    3324      3\n",
      "5               0       0    1256    2741  231057     42\n",
      "6               0       0    1885     240   45289  47488\n",
      "7               0       0    1165      71      11  29901\n",
      "\n",
      "\n",
      "Confusion Matrix test\n",
      "Predicted       1       2       3       4      5      6\n",
      "reel                                                   \n",
      "1          124108   13873    1931       7      1      0\n",
      "2               0  141966   14629      31  12586      0\n",
      "3               0    9939  280896    9155   3605      0\n",
      "4               0      20     277  148158   1130      0\n",
      "5               0       0     460     961  76527     11\n",
      "6               0       0     630     101  14887  15824\n",
      "7               0       0     384      23      1  10025\n"
     ]
    }
   ],
   "source": [
    "dt_clf_gs = DecisionTreeClassifier(criterion='entropy', max_depth=4,random_state=123)\n",
    "dt_clf_gs.fit(X_train_scaled,y_train)\n",
    "y_test_pred_gs = dt_clf.predict(X_test_scaled)\n",
    "y_train_pred_gs = dt_clf.predict(X_train_scaled)\n",
    "\n",
    "#Matrice de confusion\n",
    "print(\"Confusion Matrix train\")\n",
    "print(pd.crosstab(y_train, y_train_pred_gs, rownames=['reel'], colnames=['Predicted']))\n",
    "print(\"\\n\")\n",
    "print(\"Confusion Matrix test\")\n",
    "print(pd.crosstab(y_test, y_test_pred_gs, rownames=['reel'], colnames=['Predicted']))"
   ]
  },
  {
   "cell_type": "code",
   "execution_count": 20,
   "id": "bae47238-7a7e-4787-a034-f8a96248c01c",
   "metadata": {},
   "outputs": [
    {
     "name": "stdout",
     "output_type": "stream",
     "text": [
      "Train Accuracy: 89.28%\n",
      "Test Accuracy: 89.27%\n",
      "\n",
      "\n"
     ]
    },
    {
     "name": "stderr",
     "output_type": "stream",
     "text": [
      "C:\\Users\\lydia\\anaconda3\\Lib\\site-packages\\sklearn\\metrics\\_classification.py:1344: UndefinedMetricWarning: Precision is ill-defined and being set to 0.0 in labels with no predicted samples. Use `zero_division` parameter to control this behavior.\n",
      "  _warn_prf(average, modifier, msg_start, len(result))\n",
      "C:\\Users\\lydia\\anaconda3\\Lib\\site-packages\\sklearn\\metrics\\_classification.py:1344: UndefinedMetricWarning: Precision is ill-defined and being set to 0.0 in labels with no predicted samples. Use `zero_division` parameter to control this behavior.\n",
      "  _warn_prf(average, modifier, msg_start, len(result))\n"
     ]
    },
    {
     "name": "stdout",
     "output_type": "stream",
     "text": [
      "Train precision: 88.87%\n",
      "Test precision: 88.85%\n",
      "\n",
      "\n",
      "Train recall: 89.28%\n",
      "Test recall: 89.27%\n",
      "\n",
      "\n",
      "Train f1: 88.78%\n",
      "Test f1: 88.77%\n",
      "\n",
      "\n"
     ]
    },
    {
     "name": "stderr",
     "output_type": "stream",
     "text": [
      "C:\\Users\\lydia\\anaconda3\\Lib\\site-packages\\sklearn\\metrics\\_classification.py:1344: UndefinedMetricWarning: Precision and F-score are ill-defined and being set to 0.0 in labels with no predicted samples. Use `zero_division` parameter to control this behavior.\n",
      "  _warn_prf(average, modifier, msg_start, len(result))\n",
      "C:\\Users\\lydia\\anaconda3\\Lib\\site-packages\\sklearn\\metrics\\_classification.py:1344: UndefinedMetricWarning: Precision and F-score are ill-defined and being set to 0.0 in labels with no predicted samples. Use `zero_division` parameter to control this behavior.\n",
      "  _warn_prf(average, modifier, msg_start, len(result))\n",
      "C:\\Users\\lydia\\anaconda3\\Lib\\site-packages\\sklearn\\metrics\\_classification.py:1344: UndefinedMetricWarning: Precision and F-score are ill-defined and being set to 0.0 in labels with no predicted samples. Use `zero_division` parameter to control this behavior.\n",
      "  _warn_prf(average, modifier, msg_start, len(result))\n",
      "C:\\Users\\lydia\\anaconda3\\Lib\\site-packages\\sklearn\\metrics\\_classification.py:1344: UndefinedMetricWarning: Precision and F-score are ill-defined and being set to 0.0 in labels with no predicted samples. Use `zero_division` parameter to control this behavior.\n",
      "  _warn_prf(average, modifier, msg_start, len(result))\n",
      "C:\\Users\\lydia\\anaconda3\\Lib\\site-packages\\sklearn\\metrics\\_classification.py:1344: UndefinedMetricWarning: Precision and F-score are ill-defined and being set to 0.0 in labels with no predicted samples. Use `zero_division` parameter to control this behavior.\n",
      "  _warn_prf(average, modifier, msg_start, len(result))\n"
     ]
    },
    {
     "name": "stdout",
     "output_type": "stream",
     "text": [
      "Classification Report Train:               precision    recall  f1-score   support\n",
      "\n",
      "           1       1.00      0.89      0.94    420036\n",
      "           2       0.86      0.84      0.85    505445\n",
      "           3       0.94      0.93      0.93    910481\n",
      "           4       0.94      0.99      0.96    449330\n",
      "           5       0.70      0.98      0.82    235096\n",
      "           6       0.61      0.50      0.55     94902\n",
      "           7       0.00      0.00      0.00     31148\n",
      "\n",
      "    accuracy                           0.89   2646438\n",
      "   macro avg       0.72      0.73      0.72   2646438\n",
      "weighted avg       0.89      0.89      0.89   2646438\n",
      "\n",
      "Classification Report Test:               precision    recall  f1-score   support\n",
      "\n",
      "           1       1.00      0.89      0.94    139920\n",
      "           2       0.86      0.84      0.85    169212\n",
      "           3       0.94      0.93      0.93    303595\n",
      "           4       0.94      0.99      0.96    149585\n",
      "           5       0.70      0.98      0.82     77959\n",
      "           6       0.61      0.50      0.55     31442\n",
      "           7       0.00      0.00      0.00     10433\n",
      "\n",
      "    accuracy                           0.89    882146\n",
      "   macro avg       0.72      0.73      0.72    882146\n",
      "weighted avg       0.89      0.89      0.89    882146\n",
      "\n"
     ]
    },
    {
     "name": "stderr",
     "output_type": "stream",
     "text": [
      "C:\\Users\\lydia\\anaconda3\\Lib\\site-packages\\sklearn\\metrics\\_classification.py:1344: UndefinedMetricWarning: Precision and F-score are ill-defined and being set to 0.0 in labels with no predicted samples. Use `zero_division` parameter to control this behavior.\n",
      "  _warn_prf(average, modifier, msg_start, len(result))\n"
     ]
    }
   ],
   "source": [
    "#accuracy\n",
    "train_accuracy = accuracy_score(y_train, y_train_pred_gs)\n",
    "test_accuracy = accuracy_score(y_test, y_test_pred_gs)\n",
    "print(f\"Train Accuracy: {train_accuracy * 100:.2f}%\")\n",
    "print(f\"Test Accuracy: {test_accuracy * 100:.2f}%\")\n",
    "print(\"\\n\")\n",
    "\n",
    "#precision_score\n",
    "train_precision = precision_score(y_train, y_train_pred_gs, average='weighted')\n",
    "test_precision = precision_score(y_test, y_test_pred_gs, average='weighted')\n",
    "print(f\"Train precision: {train_precision * 100:.2f}%\")\n",
    "print(f\"Test precision: {test_precision * 100:.2f}%\")\n",
    "print(\"\\n\")\n",
    "\n",
    "#recall_score\n",
    "train_recall = recall_score(y_train, y_train_pred_gs, average='weighted')\n",
    "test_recall = recall_score(y_test, y_test_pred_gs, average='weighted')\n",
    "print(f\"Train recall: {train_recall * 100:.2f}%\")\n",
    "print(f\"Test recall: {test_recall * 100:.2f}%\")\n",
    "print(\"\\n\")\n",
    "\n",
    "#f1_score\n",
    "train_f1 = f1_score(y_train, y_train_pred_gs, average='weighted')\n",
    "test_f1 = f1_score(y_test, y_test_pred_gs, average='weighted')\n",
    "print(f\"Train f1: {train_f1 * 100:.2f}%\")\n",
    "print(f\"Test f1: {test_f1 * 100:.2f}%\")\n",
    "print(\"\\n\")\n",
    "\n",
    "#classification_report\n",
    "class_report_train = classification_report(y_train, y_train_pred_gs)\n",
    "class_report_test = classification_report(y_test, y_test_pred_gs)\n",
    "print(\"Classification Report Train:\", class_report_train)\n",
    "print(\"Classification Report Test:\", class_report_test)"
   ]
  },
  {
   "cell_type": "code",
   "execution_count": 21,
   "id": "961a4e67-aecc-4f38-8a2e-1e250b13a427",
   "metadata": {},
   "outputs": [
    {
     "name": "stdout",
     "output_type": "stream",
     "text": [
      "Accuracy moyenne en validation croisée: 0.8928\n"
     ]
    }
   ],
   "source": [
    "from sklearn.model_selection import cross_val_score\n",
    "\n",
    "scores = cross_val_score(dt_clf_gs, X_train_scaled, y_train, cv=5, scoring='accuracy')\n",
    "print(f'Accuracy moyenne en validation croisée: {scores.mean():.4f}')"
   ]
  },
  {
   "cell_type": "code",
   "execution_count": null,
   "id": "364b042f-3b3b-4b35-b23a-667fe23d22be",
   "metadata": {},
   "outputs": [],
   "source": [
    "#Les résultats obtenus avec le Gridsearch sont similaires, il vaudrait mieux utiliser un autre modèle de machine learning \n",
    "#pour obtenir de meilleurs résultats"
   ]
  },
  {
   "cell_type": "code",
   "execution_count": null,
   "id": "4c209249-61cb-463e-a6db-809922950712",
   "metadata": {},
   "outputs": [],
   "source": [
    "#KNeighborsClassifier"
   ]
  },
  {
   "cell_type": "code",
   "execution_count": 29,
   "id": "17f01677-4374-477a-8597-205519125f2c",
   "metadata": {},
   "outputs": [
    {
     "ename": "KeyboardInterrupt",
     "evalue": "",
     "output_type": "error",
     "traceback": [
      "\u001b[1;31m---------------------------------------------------------------------------\u001b[0m",
      "\u001b[1;31mKeyboardInterrupt\u001b[0m                         Traceback (most recent call last)",
      "Cell \u001b[1;32mIn[29], line 4\u001b[0m\n\u001b[0;32m      1\u001b[0m knn \u001b[38;5;241m=\u001b[39m KNeighborsClassifier(n_neighbors\u001b[38;5;241m=\u001b[39m\u001b[38;5;241m7\u001b[39m,p\u001b[38;5;241m=\u001b[39m\u001b[38;5;241m2\u001b[39m, metric\u001b[38;5;241m=\u001b[39m\u001b[38;5;124m\"\u001b[39m\u001b[38;5;124mminkowski\u001b[39m\u001b[38;5;124m\"\u001b[39m)\n\u001b[0;32m      2\u001b[0m knn\u001b[38;5;241m.\u001b[39mfit(X_train_scaled,y_train)\n\u001b[1;32m----> 4\u001b[0m y_test_pred_KNN \u001b[38;5;241m=\u001b[39m knn\u001b[38;5;241m.\u001b[39mpredict(X_test_scaled)\n\u001b[0;32m      5\u001b[0m y_train_pred_KNN \u001b[38;5;241m=\u001b[39m knn\u001b[38;5;241m.\u001b[39mpredict(X_train_scaled)\n",
      "File \u001b[1;32m~\\anaconda3\\Lib\\site-packages\\sklearn\\neighbors\\_classification.py:234\u001b[0m, in \u001b[0;36mKNeighborsClassifier.predict\u001b[1;34m(self, X)\u001b[0m\n\u001b[0;32m    218\u001b[0m \u001b[38;5;250m\u001b[39m\u001b[38;5;124;03m\"\"\"Predict the class labels for the provided data.\u001b[39;00m\n\u001b[0;32m    219\u001b[0m \n\u001b[0;32m    220\u001b[0m \u001b[38;5;124;03mParameters\u001b[39;00m\n\u001b[1;32m   (...)\u001b[0m\n\u001b[0;32m    229\u001b[0m \u001b[38;5;124;03m    Class labels for each data sample.\u001b[39;00m\n\u001b[0;32m    230\u001b[0m \u001b[38;5;124;03m\"\"\"\u001b[39;00m\n\u001b[0;32m    231\u001b[0m \u001b[38;5;28;01mif\u001b[39;00m \u001b[38;5;28mself\u001b[39m\u001b[38;5;241m.\u001b[39mweights \u001b[38;5;241m==\u001b[39m \u001b[38;5;124m\"\u001b[39m\u001b[38;5;124muniform\u001b[39m\u001b[38;5;124m\"\u001b[39m:\n\u001b[0;32m    232\u001b[0m     \u001b[38;5;66;03m# In that case, we do not need the distances to perform\u001b[39;00m\n\u001b[0;32m    233\u001b[0m     \u001b[38;5;66;03m# the weighting so we do not compute them.\u001b[39;00m\n\u001b[1;32m--> 234\u001b[0m     neigh_ind \u001b[38;5;241m=\u001b[39m \u001b[38;5;28mself\u001b[39m\u001b[38;5;241m.\u001b[39mkneighbors(X, return_distance\u001b[38;5;241m=\u001b[39m\u001b[38;5;28;01mFalse\u001b[39;00m)\n\u001b[0;32m    235\u001b[0m     neigh_dist \u001b[38;5;241m=\u001b[39m \u001b[38;5;28;01mNone\u001b[39;00m\n\u001b[0;32m    236\u001b[0m \u001b[38;5;28;01melse\u001b[39;00m:\n",
      "File \u001b[1;32m~\\anaconda3\\Lib\\site-packages\\sklearn\\neighbors\\_base.py:879\u001b[0m, in \u001b[0;36mKNeighborsMixin.kneighbors\u001b[1;34m(self, X, n_neighbors, return_distance)\u001b[0m\n\u001b[0;32m    873\u001b[0m     \u001b[38;5;28;01mif\u001b[39;00m issparse(X):\n\u001b[0;32m    874\u001b[0m         \u001b[38;5;28;01mraise\u001b[39;00m \u001b[38;5;167;01mValueError\u001b[39;00m(\n\u001b[0;32m    875\u001b[0m             \u001b[38;5;124m\"\u001b[39m\u001b[38;5;132;01m%s\u001b[39;00m\u001b[38;5;124m does not work with sparse matrices. Densify the data, \u001b[39m\u001b[38;5;124m\"\u001b[39m\n\u001b[0;32m    876\u001b[0m             \u001b[38;5;124m\"\u001b[39m\u001b[38;5;124mor set algorithm=\u001b[39m\u001b[38;5;124m'\u001b[39m\u001b[38;5;124mbrute\u001b[39m\u001b[38;5;124m'\u001b[39m\u001b[38;5;124m\"\u001b[39m\n\u001b[0;32m    877\u001b[0m             \u001b[38;5;241m%\u001b[39m \u001b[38;5;28mself\u001b[39m\u001b[38;5;241m.\u001b[39m_fit_method\n\u001b[0;32m    878\u001b[0m         )\n\u001b[1;32m--> 879\u001b[0m     chunked_results \u001b[38;5;241m=\u001b[39m Parallel(n_jobs, prefer\u001b[38;5;241m=\u001b[39m\u001b[38;5;124m\"\u001b[39m\u001b[38;5;124mthreads\u001b[39m\u001b[38;5;124m\"\u001b[39m)(\n\u001b[0;32m    880\u001b[0m         delayed(_tree_query_parallel_helper)(\n\u001b[0;32m    881\u001b[0m             \u001b[38;5;28mself\u001b[39m\u001b[38;5;241m.\u001b[39m_tree, X[s], n_neighbors, return_distance\n\u001b[0;32m    882\u001b[0m         )\n\u001b[0;32m    883\u001b[0m         \u001b[38;5;28;01mfor\u001b[39;00m s \u001b[38;5;129;01min\u001b[39;00m gen_even_slices(X\u001b[38;5;241m.\u001b[39mshape[\u001b[38;5;241m0\u001b[39m], n_jobs)\n\u001b[0;32m    884\u001b[0m     )\n\u001b[0;32m    885\u001b[0m \u001b[38;5;28;01melse\u001b[39;00m:\n\u001b[0;32m    886\u001b[0m     \u001b[38;5;28;01mraise\u001b[39;00m \u001b[38;5;167;01mValueError\u001b[39;00m(\u001b[38;5;124m\"\u001b[39m\u001b[38;5;124minternal: _fit_method not recognized\u001b[39m\u001b[38;5;124m\"\u001b[39m)\n",
      "File \u001b[1;32m~\\anaconda3\\Lib\\site-packages\\sklearn\\utils\\parallel.py:63\u001b[0m, in \u001b[0;36mParallel.__call__\u001b[1;34m(self, iterable)\u001b[0m\n\u001b[0;32m     58\u001b[0m config \u001b[38;5;241m=\u001b[39m get_config()\n\u001b[0;32m     59\u001b[0m iterable_with_config \u001b[38;5;241m=\u001b[39m (\n\u001b[0;32m     60\u001b[0m     (_with_config(delayed_func, config), args, kwargs)\n\u001b[0;32m     61\u001b[0m     \u001b[38;5;28;01mfor\u001b[39;00m delayed_func, args, kwargs \u001b[38;5;129;01min\u001b[39;00m iterable\n\u001b[0;32m     62\u001b[0m )\n\u001b[1;32m---> 63\u001b[0m \u001b[38;5;28;01mreturn\u001b[39;00m \u001b[38;5;28msuper\u001b[39m()\u001b[38;5;241m.\u001b[39m\u001b[38;5;21m__call__\u001b[39m(iterable_with_config)\n",
      "File \u001b[1;32m~\\anaconda3\\Lib\\site-packages\\joblib\\parallel.py:1085\u001b[0m, in \u001b[0;36mParallel.__call__\u001b[1;34m(self, iterable)\u001b[0m\n\u001b[0;32m   1076\u001b[0m \u001b[38;5;28;01mtry\u001b[39;00m:\n\u001b[0;32m   1077\u001b[0m     \u001b[38;5;66;03m# Only set self._iterating to True if at least a batch\u001b[39;00m\n\u001b[0;32m   1078\u001b[0m     \u001b[38;5;66;03m# was dispatched. In particular this covers the edge\u001b[39;00m\n\u001b[1;32m   (...)\u001b[0m\n\u001b[0;32m   1082\u001b[0m     \u001b[38;5;66;03m# was very quick and its callback already dispatched all the\u001b[39;00m\n\u001b[0;32m   1083\u001b[0m     \u001b[38;5;66;03m# remaining jobs.\u001b[39;00m\n\u001b[0;32m   1084\u001b[0m     \u001b[38;5;28mself\u001b[39m\u001b[38;5;241m.\u001b[39m_iterating \u001b[38;5;241m=\u001b[39m \u001b[38;5;28;01mFalse\u001b[39;00m\n\u001b[1;32m-> 1085\u001b[0m     \u001b[38;5;28;01mif\u001b[39;00m \u001b[38;5;28mself\u001b[39m\u001b[38;5;241m.\u001b[39mdispatch_one_batch(iterator):\n\u001b[0;32m   1086\u001b[0m         \u001b[38;5;28mself\u001b[39m\u001b[38;5;241m.\u001b[39m_iterating \u001b[38;5;241m=\u001b[39m \u001b[38;5;28mself\u001b[39m\u001b[38;5;241m.\u001b[39m_original_iterator \u001b[38;5;129;01mis\u001b[39;00m \u001b[38;5;129;01mnot\u001b[39;00m \u001b[38;5;28;01mNone\u001b[39;00m\n\u001b[0;32m   1088\u001b[0m     \u001b[38;5;28;01mwhile\u001b[39;00m \u001b[38;5;28mself\u001b[39m\u001b[38;5;241m.\u001b[39mdispatch_one_batch(iterator):\n",
      "File \u001b[1;32m~\\anaconda3\\Lib\\site-packages\\joblib\\parallel.py:901\u001b[0m, in \u001b[0;36mParallel.dispatch_one_batch\u001b[1;34m(self, iterator)\u001b[0m\n\u001b[0;32m    899\u001b[0m     \u001b[38;5;28;01mreturn\u001b[39;00m \u001b[38;5;28;01mFalse\u001b[39;00m\n\u001b[0;32m    900\u001b[0m \u001b[38;5;28;01melse\u001b[39;00m:\n\u001b[1;32m--> 901\u001b[0m     \u001b[38;5;28mself\u001b[39m\u001b[38;5;241m.\u001b[39m_dispatch(tasks)\n\u001b[0;32m    902\u001b[0m     \u001b[38;5;28;01mreturn\u001b[39;00m \u001b[38;5;28;01mTrue\u001b[39;00m\n",
      "File \u001b[1;32m~\\anaconda3\\Lib\\site-packages\\joblib\\parallel.py:819\u001b[0m, in \u001b[0;36mParallel._dispatch\u001b[1;34m(self, batch)\u001b[0m\n\u001b[0;32m    817\u001b[0m \u001b[38;5;28;01mwith\u001b[39;00m \u001b[38;5;28mself\u001b[39m\u001b[38;5;241m.\u001b[39m_lock:\n\u001b[0;32m    818\u001b[0m     job_idx \u001b[38;5;241m=\u001b[39m \u001b[38;5;28mlen\u001b[39m(\u001b[38;5;28mself\u001b[39m\u001b[38;5;241m.\u001b[39m_jobs)\n\u001b[1;32m--> 819\u001b[0m     job \u001b[38;5;241m=\u001b[39m \u001b[38;5;28mself\u001b[39m\u001b[38;5;241m.\u001b[39m_backend\u001b[38;5;241m.\u001b[39mapply_async(batch, callback\u001b[38;5;241m=\u001b[39mcb)\n\u001b[0;32m    820\u001b[0m     \u001b[38;5;66;03m# A job can complete so quickly than its callback is\u001b[39;00m\n\u001b[0;32m    821\u001b[0m     \u001b[38;5;66;03m# called before we get here, causing self._jobs to\u001b[39;00m\n\u001b[0;32m    822\u001b[0m     \u001b[38;5;66;03m# grow. To ensure correct results ordering, .insert is\u001b[39;00m\n\u001b[0;32m    823\u001b[0m     \u001b[38;5;66;03m# used (rather than .append) in the following line\u001b[39;00m\n\u001b[0;32m    824\u001b[0m     \u001b[38;5;28mself\u001b[39m\u001b[38;5;241m.\u001b[39m_jobs\u001b[38;5;241m.\u001b[39minsert(job_idx, job)\n",
      "File \u001b[1;32m~\\anaconda3\\Lib\\site-packages\\joblib\\_parallel_backends.py:208\u001b[0m, in \u001b[0;36mSequentialBackend.apply_async\u001b[1;34m(self, func, callback)\u001b[0m\n\u001b[0;32m    206\u001b[0m \u001b[38;5;28;01mdef\u001b[39;00m \u001b[38;5;21mapply_async\u001b[39m(\u001b[38;5;28mself\u001b[39m, func, callback\u001b[38;5;241m=\u001b[39m\u001b[38;5;28;01mNone\u001b[39;00m):\n\u001b[0;32m    207\u001b[0m \u001b[38;5;250m    \u001b[39m\u001b[38;5;124;03m\"\"\"Schedule a func to be run\"\"\"\u001b[39;00m\n\u001b[1;32m--> 208\u001b[0m     result \u001b[38;5;241m=\u001b[39m ImmediateResult(func)\n\u001b[0;32m    209\u001b[0m     \u001b[38;5;28;01mif\u001b[39;00m callback:\n\u001b[0;32m    210\u001b[0m         callback(result)\n",
      "File \u001b[1;32m~\\anaconda3\\Lib\\site-packages\\joblib\\_parallel_backends.py:597\u001b[0m, in \u001b[0;36mImmediateResult.__init__\u001b[1;34m(self, batch)\u001b[0m\n\u001b[0;32m    594\u001b[0m \u001b[38;5;28;01mdef\u001b[39;00m \u001b[38;5;21m__init__\u001b[39m(\u001b[38;5;28mself\u001b[39m, batch):\n\u001b[0;32m    595\u001b[0m     \u001b[38;5;66;03m# Don't delay the application, to avoid keeping the input\u001b[39;00m\n\u001b[0;32m    596\u001b[0m     \u001b[38;5;66;03m# arguments in memory\u001b[39;00m\n\u001b[1;32m--> 597\u001b[0m     \u001b[38;5;28mself\u001b[39m\u001b[38;5;241m.\u001b[39mresults \u001b[38;5;241m=\u001b[39m batch()\n",
      "File \u001b[1;32m~\\anaconda3\\Lib\\site-packages\\joblib\\parallel.py:288\u001b[0m, in \u001b[0;36mBatchedCalls.__call__\u001b[1;34m(self)\u001b[0m\n\u001b[0;32m    284\u001b[0m \u001b[38;5;28;01mdef\u001b[39;00m \u001b[38;5;21m__call__\u001b[39m(\u001b[38;5;28mself\u001b[39m):\n\u001b[0;32m    285\u001b[0m     \u001b[38;5;66;03m# Set the default nested backend to self._backend but do not set the\u001b[39;00m\n\u001b[0;32m    286\u001b[0m     \u001b[38;5;66;03m# change the default number of processes to -1\u001b[39;00m\n\u001b[0;32m    287\u001b[0m     \u001b[38;5;28;01mwith\u001b[39;00m parallel_backend(\u001b[38;5;28mself\u001b[39m\u001b[38;5;241m.\u001b[39m_backend, n_jobs\u001b[38;5;241m=\u001b[39m\u001b[38;5;28mself\u001b[39m\u001b[38;5;241m.\u001b[39m_n_jobs):\n\u001b[1;32m--> 288\u001b[0m         \u001b[38;5;28;01mreturn\u001b[39;00m [func(\u001b[38;5;241m*\u001b[39margs, \u001b[38;5;241m*\u001b[39m\u001b[38;5;241m*\u001b[39mkwargs)\n\u001b[0;32m    289\u001b[0m                 \u001b[38;5;28;01mfor\u001b[39;00m func, args, kwargs \u001b[38;5;129;01min\u001b[39;00m \u001b[38;5;28mself\u001b[39m\u001b[38;5;241m.\u001b[39mitems]\n",
      "File \u001b[1;32m~\\anaconda3\\Lib\\site-packages\\joblib\\parallel.py:288\u001b[0m, in \u001b[0;36m<listcomp>\u001b[1;34m(.0)\u001b[0m\n\u001b[0;32m    284\u001b[0m \u001b[38;5;28;01mdef\u001b[39;00m \u001b[38;5;21m__call__\u001b[39m(\u001b[38;5;28mself\u001b[39m):\n\u001b[0;32m    285\u001b[0m     \u001b[38;5;66;03m# Set the default nested backend to self._backend but do not set the\u001b[39;00m\n\u001b[0;32m    286\u001b[0m     \u001b[38;5;66;03m# change the default number of processes to -1\u001b[39;00m\n\u001b[0;32m    287\u001b[0m     \u001b[38;5;28;01mwith\u001b[39;00m parallel_backend(\u001b[38;5;28mself\u001b[39m\u001b[38;5;241m.\u001b[39m_backend, n_jobs\u001b[38;5;241m=\u001b[39m\u001b[38;5;28mself\u001b[39m\u001b[38;5;241m.\u001b[39m_n_jobs):\n\u001b[1;32m--> 288\u001b[0m         \u001b[38;5;28;01mreturn\u001b[39;00m [func(\u001b[38;5;241m*\u001b[39margs, \u001b[38;5;241m*\u001b[39m\u001b[38;5;241m*\u001b[39mkwargs)\n\u001b[0;32m    289\u001b[0m                 \u001b[38;5;28;01mfor\u001b[39;00m func, args, kwargs \u001b[38;5;129;01min\u001b[39;00m \u001b[38;5;28mself\u001b[39m\u001b[38;5;241m.\u001b[39mitems]\n",
      "File \u001b[1;32m~\\anaconda3\\Lib\\site-packages\\sklearn\\utils\\parallel.py:123\u001b[0m, in \u001b[0;36m_FuncWrapper.__call__\u001b[1;34m(self, *args, **kwargs)\u001b[0m\n\u001b[0;32m    121\u001b[0m     config \u001b[38;5;241m=\u001b[39m {}\n\u001b[0;32m    122\u001b[0m \u001b[38;5;28;01mwith\u001b[39;00m config_context(\u001b[38;5;241m*\u001b[39m\u001b[38;5;241m*\u001b[39mconfig):\n\u001b[1;32m--> 123\u001b[0m     \u001b[38;5;28;01mreturn\u001b[39;00m \u001b[38;5;28mself\u001b[39m\u001b[38;5;241m.\u001b[39mfunction(\u001b[38;5;241m*\u001b[39margs, \u001b[38;5;241m*\u001b[39m\u001b[38;5;241m*\u001b[39mkwargs)\n",
      "File \u001b[1;32m~\\anaconda3\\Lib\\site-packages\\sklearn\\neighbors\\_base.py:685\u001b[0m, in \u001b[0;36m_tree_query_parallel_helper\u001b[1;34m(tree, *args, **kwargs)\u001b[0m\n\u001b[0;32m    679\u001b[0m \u001b[38;5;28;01mdef\u001b[39;00m \u001b[38;5;21m_tree_query_parallel_helper\u001b[39m(tree, \u001b[38;5;241m*\u001b[39margs, \u001b[38;5;241m*\u001b[39m\u001b[38;5;241m*\u001b[39mkwargs):\n\u001b[0;32m    680\u001b[0m \u001b[38;5;250m    \u001b[39m\u001b[38;5;124;03m\"\"\"Helper for the Parallel calls in KNeighborsMixin.kneighbors.\u001b[39;00m\n\u001b[0;32m    681\u001b[0m \n\u001b[0;32m    682\u001b[0m \u001b[38;5;124;03m    The Cython method tree.query is not directly picklable by cloudpickle\u001b[39;00m\n\u001b[0;32m    683\u001b[0m \u001b[38;5;124;03m    under PyPy.\u001b[39;00m\n\u001b[0;32m    684\u001b[0m \u001b[38;5;124;03m    \"\"\"\u001b[39;00m\n\u001b[1;32m--> 685\u001b[0m     \u001b[38;5;28;01mreturn\u001b[39;00m tree\u001b[38;5;241m.\u001b[39mquery(\u001b[38;5;241m*\u001b[39margs, \u001b[38;5;241m*\u001b[39m\u001b[38;5;241m*\u001b[39mkwargs)\n",
      "\u001b[1;31mKeyboardInterrupt\u001b[0m: "
     ]
    }
   ],
   "source": [
    "knn = KNeighborsClassifier(n_neighbors=7,p=2, metric=\"minkowski\")\n",
    "knn.fit(X_train_scaled,y_train)\n",
    "\n",
    "y_test_pred_KNN = knn.predict(X_test_scaled)\n",
    "y_train_pred_KNN = knn.predict(X_train_scaled)"
   ]
  },
  {
   "cell_type": "code",
   "execution_count": null,
   "id": "c6f43d2f-2a75-4aeb-9430-a63eaafa2b04",
   "metadata": {},
   "outputs": [],
   "source": []
  },
  {
   "cell_type": "code",
   "execution_count": null,
   "id": "4df41ac9-8e8c-4979-94e3-14bb709694a1",
   "metadata": {},
   "outputs": [],
   "source": [
    "#Matrice de confusion\n",
    "print(\"Confusion Matrix train\")\n",
    "print(pd.crosstab(y_train, y_train_pred_KNN, rownames=['reel'], colnames=['Predicted']))\n",
    "print(\"\\n\")\n",
    "print(\"Confusion Matrix test\")\n",
    "print(pd.crosstab(y_test, y_test_pred_KNN, rownames=['reel'], colnames=['Predicted']))"
   ]
  },
  {
   "cell_type": "code",
   "execution_count": null,
   "id": "8dc95ad5-dc92-4334-b2cd-7aeec1621ea3",
   "metadata": {},
   "outputs": [],
   "source": [
    "#Calcul des scores"
   ]
  },
  {
   "cell_type": "code",
   "execution_count": 24,
   "id": "909d401e-891f-4ffd-bbfb-e6dc05ea3770",
   "metadata": {},
   "outputs": [
    {
     "ename": "NameError",
     "evalue": "name 'y_train_pred_KNN' is not defined",
     "output_type": "error",
     "traceback": [
      "\u001b[1;31m---------------------------------------------------------------------------\u001b[0m",
      "\u001b[1;31mNameError\u001b[0m                                 Traceback (most recent call last)",
      "Cell \u001b[1;32mIn[24], line 2\u001b[0m\n\u001b[0;32m      1\u001b[0m \u001b[38;5;66;03m#accuracy\u001b[39;00m\n\u001b[1;32m----> 2\u001b[0m train_accuracy \u001b[38;5;241m=\u001b[39m accuracy_score(y_train, y_train_pred_KNN)\n\u001b[0;32m      3\u001b[0m test_accuracy \u001b[38;5;241m=\u001b[39m accuracy_score(y_test, y_test_pred_KNN)\n\u001b[0;32m      4\u001b[0m \u001b[38;5;28mprint\u001b[39m(\u001b[38;5;124mf\u001b[39m\u001b[38;5;124m\"\u001b[39m\u001b[38;5;124mTrain Accuracy: \u001b[39m\u001b[38;5;132;01m{\u001b[39;00mtrain_accuracy\u001b[38;5;250m \u001b[39m\u001b[38;5;241m*\u001b[39m\u001b[38;5;250m \u001b[39m\u001b[38;5;241m100\u001b[39m\u001b[38;5;132;01m:\u001b[39;00m\u001b[38;5;124m.2f\u001b[39m\u001b[38;5;132;01m}\u001b[39;00m\u001b[38;5;124m%\u001b[39m\u001b[38;5;124m\"\u001b[39m)\n",
      "\u001b[1;31mNameError\u001b[0m: name 'y_train_pred_KNN' is not defined"
     ]
    }
   ],
   "source": [
    "#accuracy\n",
    "train_accuracy = accuracy_score(y_train, y_train_pred_KNN)\n",
    "test_accuracy = accuracy_score(y_test, y_test_pred_KNN)\n",
    "print(f\"Train Accuracy: {train_accuracy * 100:.2f}%\")\n",
    "print(f\"Test Accuracy: {test_accuracy * 100:.2f}%\")\n",
    "print(\"\\n\")\n",
    "\n",
    "#precision_score\n",
    "train_precision = precision_score(y_train, y_train_pred_KNN, average='weighted')\n",
    "test_precision = precision_score(y_test, y_test_pred_KNN, average='weighted')\n",
    "print(f\"Train precision: {train_precision * 100:.2f}%\")\n",
    "print(f\"Test precision: {test_precision * 100:.2f}%\")\n",
    "print(\"\\n\")\n",
    "\n",
    "#recall_score\n",
    "train_recall = recall_score(y_train, y_train_pred_KNN, average='weighted')\n",
    "test_recall = recall_score(y_test, y_test_pred_KNN, average='weighted')\n",
    "print(f\"Train recall: {train_recall * 100:.2f}%\")\n",
    "print(f\"Test recall: {test_recall * 100:.2f}%\")\n",
    "print(\"\\n\")\n",
    "\n",
    "#f1_score\n",
    "train_f1 = f1_score(y_train, y_train_pred_KNN, average='weighted')\n",
    "test_f1 = f1_score(y_test, y_test_pred_KNN, average='weighted')\n",
    "print(f\"Train f1: {train_f1 * 100:.2f}%\")\n",
    "print(f\"Test f1: {test_f1 * 100:.2f}%\")\n",
    "print(\"\\n\")\n",
    "\n",
    "#classification_report\n",
    "class_report_train = classification_report(y_train, y_train_pred_KNN)\n",
    "class_report_test = classification_report(y_test, y_test_pred_KNN)\n",
    "print(\"Classification Report Train:\", class_report_train)\n",
    "print(\"Classification Report Test:\", class_report_test)"
   ]
  },
  {
   "cell_type": "code",
   "execution_count": 23,
   "id": "4edd528e-1867-4f47-bdee-4e09d0167c48",
   "metadata": {},
   "outputs": [
    {
     "name": "stdout",
     "output_type": "stream",
     "text": [
      "Accuracy moyenne en validation croisée: 0.8928\n"
     ]
    }
   ],
   "source": [
    "from sklearn.model_selection import cross_val_score\n",
    "\n",
    "scores = cross_val_score(dt_clf, X_train_scaled, y_train, cv=5, scoring='accuracy')\n",
    "print(f'Accuracy moyenne en validation croisée: {scores.mean():.4f}')"
   ]
  },
  {
   "cell_type": "code",
   "execution_count": null,
   "id": "6c00722a-2a3a-4e8f-927f-5201367a53ee",
   "metadata": {},
   "outputs": [],
   "source": [
    "#INTERPRETATION\n"
   ]
  },
  {
   "cell_type": "code",
   "execution_count": null,
   "id": "a572e48d-aa39-45a6-851a-57a38bee24fa",
   "metadata": {},
   "outputs": [],
   "source": [
    "#Feature importance DecisionTree Classifier"
   ]
  },
  {
   "cell_type": "code",
   "execution_count": null,
   "id": "181ab8a3-48f1-4abb-a619-f6c0339ced93",
   "metadata": {},
   "outputs": [],
   "source": [
    "feats = {}\n",
    "for feature, importance in zip(data_3.columns, gb.feature_importances_):\n",
    "    feats[feature] = importance \n",
    "    \n",
    "importances = pd.DataFrame.from_dict(feats, orient='index').rename(columns={0: 'Importance'})\n",
    "importances.sort_values(by='Importance', ascending=False)"
   ]
  },
  {
   "cell_type": "code",
   "execution_count": null,
   "id": "0b89a9f4-4beb-4485-8346-399a4380e04d",
   "metadata": {},
   "outputs": [],
   "source": [
    "#Visualisation des features importance"
   ]
  },
  {
   "cell_type": "code",
   "execution_count": null,
   "id": "27c3f280-8a1e-416d-a6c8-cfc21ddc09f7",
   "metadata": {},
   "outputs": [],
   "source": [
    "importances_sorted = importances.sort_values(by='Importance', ascending=False)\n",
    "\n",
    "plt.figure(figsize=(8, 4))\n",
    "sns.barplot(x=importances_sorted['Importance'], y=importances_sorted.index, palette='Blues_d')\n",
    "plt.xlabel('Importance')\n",
    "plt.ylabel('Features')\n",
    "plt.title('Feature Importances')\n",
    "plt.show()"
   ]
  },
  {
   "cell_type": "code",
   "execution_count": null,
   "id": "dc4470d0-1076-4210-a8f4-cd58f797c2e1",
   "metadata": {},
   "outputs": [],
   "source": [
    "#Gridsearch_KNeighborsClassifier"
   ]
  },
  {
   "cell_type": "code",
   "execution_count": null,
   "id": "9f8a05e3-1a92-4f71-9f0a-6ce5bf1fe8ee",
   "metadata": {},
   "outputs": [],
   "source": []
  },
  {
   "cell_type": "code",
   "execution_count": null,
   "id": "d378838a-87fc-423b-9c6c-d4e0a1ceb070",
   "metadata": {},
   "outputs": [],
   "source": [
    "#INTERPRETATION"
   ]
  },
  {
   "cell_type": "code",
   "execution_count": null,
   "id": "7e544074-ac21-420a-baa4-e8a6e20ee015",
   "metadata": {},
   "outputs": [],
   "source": [
    "Le GradientBoostingClassifier s'utilise seul, car il est un algorithme de classification complet. Cependant, il repose sur des modèles faibles, \n",
    "qui sont généralement des arbres de décision peu profonds, qu'il combine pour créer un classificateur plus robuste.\n",
    "Cependant, grâce au mécanisme de boosting, ces arbres sont entraînés successivement pour corriger les erreurs des précédents. \n",
    "Ainsi, même si chaque modèle faible est imparfait, leur combinaison produit un modèle fort."
   ]
  },
  {
   "cell_type": "code",
   "execution_count": null,
   "id": "978f2ee7-5ab3-4693-8637-d4398a6b33c5",
   "metadata": {},
   "outputs": [],
   "source": [
    "#GradientBoostingClassifier"
   ]
  },
  {
   "cell_type": "code",
   "execution_count": null,
   "id": "f7620f85-6a99-4391-91fa-167eb9f4148e",
   "metadata": {},
   "outputs": [],
   "source": [
    "gb = GradientBoostingClassifier(n_estimators=100, learning_rate=0.1, max_depth=3, random_state=42)\n",
    "gb.fit(X_train_scaled,y_train)\n",
    "\n",
    "y_test_pred_gb = gb.predict(X_test_scaled)\n",
    "y_train_pred_gb = gb.predict(X_train_scaled)"
   ]
  },
  {
   "cell_type": "code",
   "execution_count": null,
   "id": "bc7ca1e5-c0a8-4fe3-a7fd-2d533fa57996",
   "metadata": {},
   "outputs": [],
   "source": [
    "#Matrice de confusion\n",
    "print(\"Confusion Matrix train\")\n",
    "print(pd.crosstab(y_train, y_train_pred_gb, rownames=['reel'], colnames=['Predicted']))\n",
    "print(\"\\n\")\n",
    "print(\"Confusion Matrix test\")\n",
    "print(pd.crosstab(y_test, y_test_pred_gb, rownames=['reel'], colnames=['Predicted']))"
   ]
  },
  {
   "cell_type": "code",
   "execution_count": null,
   "id": "ca42ec16-833d-4416-9840-4cb3c35fc26f",
   "metadata": {},
   "outputs": [],
   "source": [
    "#Calcul des scores"
   ]
  },
  {
   "cell_type": "code",
   "execution_count": null,
   "id": "f9a01009-94c6-4f67-94e9-587ef4106e0d",
   "metadata": {},
   "outputs": [],
   "source": [
    "#accuracy\n",
    "train_accuracy = accuracy_score(y_train, y_train_pred_gb)\n",
    "test_accuracy = accuracy_score(y_test, y_test_pred_gb)\n",
    "print(f\"Train Accuracy: {train_accuracy * 100:.2f}%\")\n",
    "print(f\"Test Accuracy: {test_accuracy * 100:.2f}%\")\n",
    "print(\"\\n\")\n",
    "\n",
    "#precision_score\n",
    "train_precision = precision_score(y_train, y_train_pred_gb, average='weighted')\n",
    "test_precision = precision_score(y_test, y_test_pred_gb, average='weighted')\n",
    "print(f\"Train precision: {train_precision * 100:.2f}%\")\n",
    "print(f\"Test precision: {test_precision * 100:.2f}%\")\n",
    "print(\"\\n\")\n",
    "\n",
    "#recall_score\n",
    "train_recall = recall_score(y_train, y_train_pred_gb, average='weighted')\n",
    "test_recall = recall_score(y_test, y_test_pred_gb, average='weighted')\n",
    "print(f\"Train recall: {train_recall * 100:.2f}%\")\n",
    "print(f\"Test recall: {test_recall * 100:.2f}%\")\n",
    "print(\"\\n\")\n",
    "\n",
    "#f1_score\n",
    "train_f1 = f1_score(y_train, y_train_pred_gb, average='weighted')\n",
    "test_f1 = f1_score(y_test, y_test_pred_gb, average='weighted')\n",
    "print(f\"Train f1: {train_f1 * 100:.2f}%\")\n",
    "print(f\"Test f1: {test_f1 * 100:.2f}%\")\n",
    "print(\"\\n\")\n",
    "\n",
    "#classification_report\n",
    "class_report_train = classification_report(y_train, y_train_pred_gb)\n",
    "class_report_test = classification_report(y_test, y_test_pred_gb)\n",
    "print(\"Classification Report Train:\", class_report_train)\n",
    "print(\"Classification Report Test:\", class_report_test)"
   ]
  },
  {
   "cell_type": "code",
   "execution_count": null,
   "id": "d53fa0d7-4b1a-4307-bc25-1f0fc0f38d07",
   "metadata": {},
   "outputs": [],
   "source": [
    "from sklearn.model_selection import cross_val_score\n",
    "\n",
    "scores = cross_val_score(gb, X_train_scaled, y_train, cv=5, scoring='accuracy')\n",
    "print(f'Accuracy moyenne en validation croisée: {scores.mean():.4f}')"
   ]
  },
  {
   "cell_type": "code",
   "execution_count": null,
   "id": "a500ee71-03d7-4842-9fe2-67aa98e64d14",
   "metadata": {},
   "outputs": [],
   "source": [
    "#INTERPRETATION"
   ]
  },
  {
   "cell_type": "code",
   "execution_count": null,
   "id": "f16ad555-37da-4848-a6d6-dbd71ac43cde",
   "metadata": {},
   "outputs": [],
   "source": [
    "Features importance Gradient Boosting"
   ]
  },
  {
   "cell_type": "code",
   "execution_count": null,
   "id": "0a816b3e-dcc7-4ba3-9489-796531d5920d",
   "metadata": {},
   "outputs": [],
   "source": [
    "feats = {}\n",
    "for feature, importance in zip(data_3.columns, gb.feature_importances_):\n",
    "    feats[feature] = importance \n",
    "    \n",
    "importances = pd.DataFrame.from_dict(feats, orient='index').rename(columns={0: 'Importance'})\n",
    "importances.sort_values(by='Importance', ascending=False)"
   ]
  },
  {
   "cell_type": "code",
   "execution_count": null,
   "id": "f9098d2e-99dd-49f5-b41e-bead58a795d5",
   "metadata": {},
   "outputs": [],
   "source": [
    "#Visualisation des features importance"
   ]
  },
  {
   "cell_type": "code",
   "execution_count": null,
   "id": "6b307d50-a595-4bd3-9c57-3d9d6134cf13",
   "metadata": {},
   "outputs": [],
   "source": [
    "importances_sorted = importances.sort_values(by='Importance', ascending=False)\n",
    "\n",
    "plt.figure(figsize=(8, 4))\n",
    "sns.barplot(x=importances_sorted['Importance'], y=importances_sorted.index, palette='Blues_d')\n",
    "plt.xlabel('Importance')\n",
    "plt.ylabel('Features')\n",
    "plt.title('Feature Importances')\n",
    "plt.show()"
   ]
  },
  {
   "cell_type": "code",
   "execution_count": null,
   "id": "9164e7cd-7174-4b01-a4e5-e2932489a997",
   "metadata": {},
   "outputs": [],
   "source": [
    "#Gridsearch Gradient Bossting"
   ]
  },
  {
   "cell_type": "code",
   "execution_count": null,
   "id": "29f88e5d-fb93-4be8-b9fc-62f1eeae8110",
   "metadata": {},
   "outputs": [],
   "source": [
    "Pour la classification, tracer les courbes ROC ou les distributions des probabilités prédites.\n",
    "    \n",
    "Métriques similaires sur train et test = bon modèle.\n",
    "Performance supérieure sur train mais mauvaise sur test = overfitting.\n",
    "Mauvaises performances sur les deux = underfitting.\n",
    "Utilisez des outils comme les courbes d'apprentissage et la validation croisée pour obtenir une vision plus détaillée de la performance.\n",
    "\n",
    "Accuracy : Cela donne une première idée de la performance. Si la précision est trop haute sur l'entraînement et basse sur le test, cela indique un surapprentissage.\n",
    "Classification report : Donne des détails sur les métriques comme la précision (precision), le rappel (recall) et le F1-score pour chaque classe de la variable cible.\n",
    "Matrice de confusion : Montre visuellement les erreurs de classification, c'est-à-dire où le modèle fait des erreurs pour prédire les catégories des émissions de CO2."
   ]
  }
 ],
 "metadata": {
  "kernelspec": {
   "display_name": "dec23CDSCO2",
   "language": "python",
   "name": "python3"
  },
  "language_info": {
   "codemirror_mode": {
    "name": "ipython",
    "version": 3
   },
   "file_extension": ".py",
   "mimetype": "text/x-python",
   "name": "python",
   "nbconvert_exporter": "python",
   "pygments_lexer": "ipython3",
   "version": "3.12.5"
  }
 },
 "nbformat": 4,
 "nbformat_minor": 5
}
