{
 "cells": [
  {
   "cell_type": "code",
   "execution_count": 2,
   "metadata": {},
   "outputs": [],
   "source": [
    "import numpy as np\n",
    "import pandas as pd"
   ]
  },
  {
   "cell_type": "code",
   "execution_count": 3,
   "metadata": {},
   "outputs": [
    {
     "name": "stderr",
     "output_type": "stream",
     "text": [
      "C:\\Users\\frobi\\AppData\\Local\\Temp\\ipykernel_3728\\3602881507.py:1: DtypeWarning: Columns (3,8,10,12,28,35) have mixed types. Specify dtype option on import or set low_memory=False.\n",
      "  df = pd.read_csv('data.csv', index_col=0)\n"
     ]
    }
   ],
   "source": [
    "df = pd.read_csv('data.csv', index_col=0)"
   ]
  },
  {
   "cell_type": "code",
   "execution_count": 4,
   "metadata": {},
   "outputs": [
    {
     "name": "stdout",
     "output_type": "stream",
     "text": [
      "Colonnes supprimés :  ['MMS', 'Ernedc (g/km)', 'De', 'Vf']\n"
     ]
    }
   ],
   "source": [
    "# Supression des colonnes à 100% de NA\n",
    "cols = []\n",
    "for column in df.columns[df.isnull().any()]:\n",
    "    if df[column].isnull().sum()*100.0/df.shape[0] == 100:\n",
    "        cols.append(column)\n",
    "        df.drop(column,axis=1, inplace=True)\n",
    "\n",
    "print('Colonnes supprimés : ',cols )\n"
   ]
  },
  {
   "cell_type": "code",
   "execution_count": 5,
   "metadata": {},
   "outputs": [],
   "source": [
    "# Suppression de :     electrique   autre pays que FR et DE   autre que petrol, diesel\n",
    "df = df.drop(['z (Wh/km)','Electric range (km)'], axis = 1)\n",
    "df = df[df['Country'].isin(['FR','DE']) ]\n",
    "df = df[df['Ft'].isin(['petrol','diesel','petrol/electric','lpg','e85','diesel/electric','ng'])]"
   ]
  },
  {
   "cell_type": "code",
   "execution_count": 15,
   "metadata": {},
   "outputs": [
    {
     "data": {
      "text/plain": [
       "(3528584, 31)"
      ]
     },
     "execution_count": 15,
     "metadata": {},
     "output_type": "execute_result"
    }
   ],
   "source": [
    "df.shape"
   ]
  },
  {
   "cell_type": "code",
   "execution_count": 6,
   "metadata": {},
   "outputs": [],
   "source": [
    "\n",
    "# suppression des colonnes\n",
    "# year, r, man, date of registration, status,T,va,ve,vfn,country,Mp, m(kg), Fm, At2\n",
    "# Tan, Cn\n",
    "\n",
    "df = df.drop(['VFN', 'Tan', 'T', 'Va', 'Ve', 'Cn', 'Fm', 'Man','Mp',\n",
    "              'Status','Date of registration','m (kg)','Enedc (g/km)','At2 (mm)','year','r'], axis = 1)\n",
    "\n"
   ]
  },
  {
   "cell_type": "code",
   "execution_count": 10,
   "metadata": {},
   "outputs": [
    {
     "name": "stdout",
     "output_type": "stream",
     "text": [
      "['Mt', 'Ewltp (g/km)', 'W (mm)', 'At1 (mm)', 'ec (cm3)', 'ep (KW)', 'Fuel consumption ']\n"
     ]
    }
   ],
   "source": [
    "# pour les variables numériques on supprime les lignes si le taux de valeur manquantes < 1%\n",
    "\n",
    "cols = []\n",
    "\n",
    "\n",
    "for column in df.select_dtypes(['int','float']).columns[df.select_dtypes(['int','float']).isnull().any()]:\n",
    "    if df[column].isnull().sum()*100.0/df.shape[0] < 1:\n",
    "        cols.append(column)\n",
    "        \n",
    "print(cols)\n",
    "df.dropna(subset=cols, inplace=True)        "
   ]
  },
  {
   "cell_type": "code",
   "execution_count": 11,
   "metadata": {},
   "outputs": [],
   "source": [
    "# Sauvegarde du fichier FinalData.csv\n",
    "df.to_csv(path_or_buf='FinalData.csv')"
   ]
  }
 ],
 "metadata": {
  "kernelspec": {
   "display_name": "DataScienceTest_101",
   "language": "python",
   "name": "python3"
  },
  "language_info": {
   "codemirror_mode": {
    "name": "ipython",
    "version": 3
   },
   "file_extension": ".py",
   "mimetype": "text/x-python",
   "name": "python",
   "nbconvert_exporter": "python",
   "pygments_lexer": "ipython3",
   "version": "3.11.5"
  }
 },
 "nbformat": 4,
 "nbformat_minor": 2
}
